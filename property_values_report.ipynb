{
 "cells": [
  {
   "cell_type": "markdown",
   "metadata": {},
   "source": [
    "# Estimate Home Tax Values in Zillow\n",
    "Authors: Matthew Mays, Gilbert Noriega"
   ]
  },
  {
   "cell_type": "markdown",
   "metadata": {},
   "source": [
    "## Goals\n",
    "- Our goal for this project is to create a model that will predict the values of single unit properties that the tax district assesses using the property data from those whose last transaction was during the months of May and June in 2017."
   ]
  },
  {
   "cell_type": "markdown",
   "metadata": {},
   "source": [
    "## Import Modules:"
   ]
  },
  {
   "cell_type": "code",
   "execution_count": 1,
   "metadata": {},
   "outputs": [],
   "source": [
    "import pandas as pd\n",
    "import numpy as np\n",
    "import seaborn as sns\n",
    "import matplotlib.pyplot as plt\n",
    "\n",
    "from scipy import stats\n",
    "\n",
    "from acquire import get_zillow_data\n",
    "from prepare import prep_zillow_final, zillow_split, add_scaled_columns\n",
    "from model import plot_variable_pairs\n",
    "from model import select_kbest, rfe\n",
    "from model import linearReg_train, lassoLars_train, poly_linearReg_train\n",
    "from model import linearReg_validate, lassoLars_validate, poly_linearReg_validate\n",
    "\n",
    "from sklearn.metrics import mean_squared_error\n",
    "from sklearn.preprocessing import PolynomialFeatures\n",
    "from sklearn.linear_model import LinearRegression\n",
    "from sklearn.feature_selection import RFE\n",
    "\n",
    "import warnings\n",
    "warnings.filterwarnings(\"ignore\")"
   ]
  },
  {
   "cell_type": "markdown",
   "metadata": {},
   "source": [
    "## Data Acquire"
   ]
  },
  {
   "cell_type": "markdown",
   "metadata": {},
   "source": [
    "- Our function, **get_zillow_data**, uses the SQL query we created to bring in data from the Zillow database to include only single unit residential properties whose last transactions were in the months of May and June in 2017. We joined a table to get the last transaction which gave us a total row count of 15,036.\n",
    "\n"
   ]
  },
  {
   "cell_type": "markdown",
   "metadata": {},
   "source": [
    "## Data Prep"
   ]
  },
  {
   "cell_type": "code",
   "execution_count": 2,
   "metadata": {},
   "outputs": [],
   "source": [
    "df = get_zillow_data()"
   ]
  },
  {
   "cell_type": "code",
   "execution_count": 3,
   "metadata": {},
   "outputs": [
    {
     "data": {
      "text/html": [
       "<div>\n",
       "<style scoped>\n",
       "    .dataframe tbody tr th:only-of-type {\n",
       "        vertical-align: middle;\n",
       "    }\n",
       "\n",
       "    .dataframe tbody tr th {\n",
       "        vertical-align: top;\n",
       "    }\n",
       "\n",
       "    .dataframe thead th {\n",
       "        text-align: right;\n",
       "    }\n",
       "</style>\n",
       "<table border=\"1\" class=\"dataframe\">\n",
       "  <thead>\n",
       "    <tr style=\"text-align: right;\">\n",
       "      <th></th>\n",
       "      <th>id</th>\n",
       "      <th>parcelid</th>\n",
       "      <th>airconditioningtypeid</th>\n",
       "      <th>architecturalstyletypeid</th>\n",
       "      <th>basementsqft</th>\n",
       "      <th>bathroomcnt</th>\n",
       "      <th>bedroomcnt</th>\n",
       "      <th>buildingclasstypeid</th>\n",
       "      <th>buildingqualitytypeid</th>\n",
       "      <th>calculatedbathnbr</th>\n",
       "      <th>...</th>\n",
       "      <th>assessmentyear</th>\n",
       "      <th>landtaxvaluedollarcnt</th>\n",
       "      <th>taxamount</th>\n",
       "      <th>taxdelinquencyflag</th>\n",
       "      <th>taxdelinquencyyear</th>\n",
       "      <th>censustractandblock</th>\n",
       "      <th>id.1</th>\n",
       "      <th>parcelid.1</th>\n",
       "      <th>logerror</th>\n",
       "      <th>transactiondate</th>\n",
       "    </tr>\n",
       "  </thead>\n",
       "  <tbody>\n",
       "    <tr>\n",
       "      <th>0</th>\n",
       "      <td>2061546</td>\n",
       "      <td>11289917</td>\n",
       "      <td>1.0</td>\n",
       "      <td>NaN</td>\n",
       "      <td>NaN</td>\n",
       "      <td>2.0</td>\n",
       "      <td>3.0</td>\n",
       "      <td>NaN</td>\n",
       "      <td>6.0</td>\n",
       "      <td>2.0</td>\n",
       "      <td>...</td>\n",
       "      <td>2016.0</td>\n",
       "      <td>27214.0</td>\n",
       "      <td>2319.90</td>\n",
       "      <td>Y</td>\n",
       "      <td>15.0</td>\n",
       "      <td>6.037901e+13</td>\n",
       "      <td>1248</td>\n",
       "      <td>11289917</td>\n",
       "      <td>-0.362001</td>\n",
       "      <td>2017-06-23</td>\n",
       "    </tr>\n",
       "    <tr>\n",
       "      <th>1</th>\n",
       "      <td>1834372</td>\n",
       "      <td>11705026</td>\n",
       "      <td>NaN</td>\n",
       "      <td>NaN</td>\n",
       "      <td>NaN</td>\n",
       "      <td>1.0</td>\n",
       "      <td>2.0</td>\n",
       "      <td>NaN</td>\n",
       "      <td>6.0</td>\n",
       "      <td>1.0</td>\n",
       "      <td>...</td>\n",
       "      <td>2016.0</td>\n",
       "      <td>23624.0</td>\n",
       "      <td>543.69</td>\n",
       "      <td>NaN</td>\n",
       "      <td>NaN</td>\n",
       "      <td>6.037232e+13</td>\n",
       "      <td>1772</td>\n",
       "      <td>11705026</td>\n",
       "      <td>-0.146056</td>\n",
       "      <td>2017-06-30</td>\n",
       "    </tr>\n",
       "    <tr>\n",
       "      <th>2</th>\n",
       "      <td>1923117</td>\n",
       "      <td>14269464</td>\n",
       "      <td>NaN</td>\n",
       "      <td>NaN</td>\n",
       "      <td>NaN</td>\n",
       "      <td>3.0</td>\n",
       "      <td>4.0</td>\n",
       "      <td>NaN</td>\n",
       "      <td>NaN</td>\n",
       "      <td>3.0</td>\n",
       "      <td>...</td>\n",
       "      <td>2016.0</td>\n",
       "      <td>445569.0</td>\n",
       "      <td>9819.72</td>\n",
       "      <td>NaN</td>\n",
       "      <td>NaN</td>\n",
       "      <td>6.059064e+13</td>\n",
       "      <td>2028</td>\n",
       "      <td>14269464</td>\n",
       "      <td>0.021085</td>\n",
       "      <td>2017-06-01</td>\n",
       "    </tr>\n",
       "    <tr>\n",
       "      <th>3</th>\n",
       "      <td>2121349</td>\n",
       "      <td>11389003</td>\n",
       "      <td>NaN</td>\n",
       "      <td>NaN</td>\n",
       "      <td>NaN</td>\n",
       "      <td>2.0</td>\n",
       "      <td>3.0</td>\n",
       "      <td>NaN</td>\n",
       "      <td>6.0</td>\n",
       "      <td>2.0</td>\n",
       "      <td>...</td>\n",
       "      <td>2016.0</td>\n",
       "      <td>449000.0</td>\n",
       "      <td>7673.19</td>\n",
       "      <td>NaN</td>\n",
       "      <td>NaN</td>\n",
       "      <td>6.037703e+13</td>\n",
       "      <td>3273</td>\n",
       "      <td>11389003</td>\n",
       "      <td>-0.325393</td>\n",
       "      <td>2017-06-01</td>\n",
       "    </tr>\n",
       "    <tr>\n",
       "      <th>4</th>\n",
       "      <td>2093710</td>\n",
       "      <td>11967869</td>\n",
       "      <td>NaN</td>\n",
       "      <td>NaN</td>\n",
       "      <td>NaN</td>\n",
       "      <td>1.0</td>\n",
       "      <td>2.0</td>\n",
       "      <td>NaN</td>\n",
       "      <td>5.0</td>\n",
       "      <td>1.0</td>\n",
       "      <td>...</td>\n",
       "      <td>2016.0</td>\n",
       "      <td>191821.0</td>\n",
       "      <td>3267.47</td>\n",
       "      <td>NaN</td>\n",
       "      <td>NaN</td>\n",
       "      <td>6.037185e+13</td>\n",
       "      <td>3429</td>\n",
       "      <td>11967869</td>\n",
       "      <td>-0.005566</td>\n",
       "      <td>2017-06-29</td>\n",
       "    </tr>\n",
       "  </tbody>\n",
       "</table>\n",
       "<p>5 rows × 63 columns</p>\n",
       "</div>"
      ],
      "text/plain": [
       "        id  parcelid  airconditioningtypeid  architecturalstyletypeid  \\\n",
       "0  2061546  11289917                    1.0                       NaN   \n",
       "1  1834372  11705026                    NaN                       NaN   \n",
       "2  1923117  14269464                    NaN                       NaN   \n",
       "3  2121349  11389003                    NaN                       NaN   \n",
       "4  2093710  11967869                    NaN                       NaN   \n",
       "\n",
       "   basementsqft  bathroomcnt  bedroomcnt  buildingclasstypeid  \\\n",
       "0           NaN          2.0         3.0                  NaN   \n",
       "1           NaN          1.0         2.0                  NaN   \n",
       "2           NaN          3.0         4.0                  NaN   \n",
       "3           NaN          2.0         3.0                  NaN   \n",
       "4           NaN          1.0         2.0                  NaN   \n",
       "\n",
       "   buildingqualitytypeid  calculatedbathnbr  ...  assessmentyear  \\\n",
       "0                    6.0                2.0  ...          2016.0   \n",
       "1                    6.0                1.0  ...          2016.0   \n",
       "2                    NaN                3.0  ...          2016.0   \n",
       "3                    6.0                2.0  ...          2016.0   \n",
       "4                    5.0                1.0  ...          2016.0   \n",
       "\n",
       "   landtaxvaluedollarcnt  taxamount  taxdelinquencyflag  taxdelinquencyyear  \\\n",
       "0                27214.0    2319.90                   Y                15.0   \n",
       "1                23624.0     543.69                 NaN                 NaN   \n",
       "2               445569.0    9819.72                 NaN                 NaN   \n",
       "3               449000.0    7673.19                 NaN                 NaN   \n",
       "4               191821.0    3267.47                 NaN                 NaN   \n",
       "\n",
       "   censustractandblock  id.1  parcelid.1  logerror  transactiondate  \n",
       "0         6.037901e+13  1248    11289917 -0.362001       2017-06-23  \n",
       "1         6.037232e+13  1772    11705026 -0.146056       2017-06-30  \n",
       "2         6.059064e+13  2028    14269464  0.021085       2017-06-01  \n",
       "3         6.037703e+13  3273    11389003 -0.325393       2017-06-01  \n",
       "4         6.037185e+13  3429    11967869 -0.005566       2017-06-29  \n",
       "\n",
       "[5 rows x 63 columns]"
      ]
     },
     "execution_count": 3,
     "metadata": {},
     "output_type": "execute_result"
    }
   ],
   "source": [
    "df.head()"
   ]
  },
  {
   "cell_type": "markdown",
   "metadata": {},
   "source": [
    "<div class=\"alert alert-block alert-info\">There are a lot of null values and with 63 columns we needed to trim some of this down.</div>"
   ]
  },
  {
   "cell_type": "code",
   "execution_count": 4,
   "metadata": {},
   "outputs": [
    {
     "data": {
      "text/html": [
       "<div>\n",
       "<style scoped>\n",
       "    .dataframe tbody tr th:only-of-type {\n",
       "        vertical-align: middle;\n",
       "    }\n",
       "\n",
       "    .dataframe tbody tr th {\n",
       "        vertical-align: top;\n",
       "    }\n",
       "\n",
       "    .dataframe thead th {\n",
       "        text-align: right;\n",
       "    }\n",
       "</style>\n",
       "<table border=\"1\" class=\"dataframe\">\n",
       "  <thead>\n",
       "    <tr style=\"text-align: right;\">\n",
       "      <th></th>\n",
       "      <th>id</th>\n",
       "      <th>parcelid</th>\n",
       "      <th>airconditioningtypeid</th>\n",
       "      <th>architecturalstyletypeid</th>\n",
       "      <th>basementsqft</th>\n",
       "      <th>bathroomcnt</th>\n",
       "      <th>bedroomcnt</th>\n",
       "      <th>buildingclasstypeid</th>\n",
       "      <th>buildingqualitytypeid</th>\n",
       "      <th>calculatedbathnbr</th>\n",
       "      <th>...</th>\n",
       "      <th>structuretaxvaluedollarcnt</th>\n",
       "      <th>taxvaluedollarcnt</th>\n",
       "      <th>assessmentyear</th>\n",
       "      <th>landtaxvaluedollarcnt</th>\n",
       "      <th>taxamount</th>\n",
       "      <th>taxdelinquencyyear</th>\n",
       "      <th>censustractandblock</th>\n",
       "      <th>id.1</th>\n",
       "      <th>parcelid.1</th>\n",
       "      <th>logerror</th>\n",
       "    </tr>\n",
       "  </thead>\n",
       "  <tbody>\n",
       "    <tr>\n",
       "      <th>count</th>\n",
       "      <td>1.503600e+04</td>\n",
       "      <td>1.503600e+04</td>\n",
       "      <td>3982.000000</td>\n",
       "      <td>15.000000</td>\n",
       "      <td>11.000000</td>\n",
       "      <td>15036.000000</td>\n",
       "      <td>15036.000000</td>\n",
       "      <td>0.0</td>\n",
       "      <td>9572.000000</td>\n",
       "      <td>14990.000000</td>\n",
       "      <td>...</td>\n",
       "      <td>1.501000e+04</td>\n",
       "      <td>1.503600e+04</td>\n",
       "      <td>15036.0</td>\n",
       "      <td>1.503600e+04</td>\n",
       "      <td>15035.000000</td>\n",
       "      <td>527.000000</td>\n",
       "      <td>1.499000e+04</td>\n",
       "      <td>15036.000000</td>\n",
       "      <td>1.503600e+04</td>\n",
       "      <td>15036.000000</td>\n",
       "    </tr>\n",
       "    <tr>\n",
       "      <th>mean</th>\n",
       "      <td>1.516020e+06</td>\n",
       "      <td>1.303819e+07</td>\n",
       "      <td>2.454043</td>\n",
       "      <td>7.600000</td>\n",
       "      <td>761.454545</td>\n",
       "      <td>2.322426</td>\n",
       "      <td>3.307595</td>\n",
       "      <td>NaN</td>\n",
       "      <td>6.303385</td>\n",
       "      <td>2.328686</td>\n",
       "      <td>...</td>\n",
       "      <td>2.017709e+05</td>\n",
       "      <td>5.434477e+05</td>\n",
       "      <td>2016.0</td>\n",
       "      <td>3.420257e+05</td>\n",
       "      <td>6618.896851</td>\n",
       "      <td>14.053131</td>\n",
       "      <td>6.049682e+13</td>\n",
       "      <td>42505.745611</td>\n",
       "      <td>1.303819e+07</td>\n",
       "      <td>0.014378</td>\n",
       "    </tr>\n",
       "    <tr>\n",
       "      <th>std</th>\n",
       "      <td>8.597327e+05</td>\n",
       "      <td>3.927138e+06</td>\n",
       "      <td>3.858626</td>\n",
       "      <td>3.924283</td>\n",
       "      <td>444.816673</td>\n",
       "      <td>1.025202</td>\n",
       "      <td>0.951095</td>\n",
       "      <td>NaN</td>\n",
       "      <td>1.718302</td>\n",
       "      <td>1.019673</td>\n",
       "      <td>...</td>\n",
       "      <td>2.633235e+05</td>\n",
       "      <td>7.354153e+05</td>\n",
       "      <td>0.0</td>\n",
       "      <td>5.287097e+05</td>\n",
       "      <td>8513.788079</td>\n",
       "      <td>1.496836</td>\n",
       "      <td>2.104661e+11</td>\n",
       "      <td>6477.676206</td>\n",
       "      <td>3.927138e+06</td>\n",
       "      <td>0.177396</td>\n",
       "    </tr>\n",
       "    <tr>\n",
       "      <th>min</th>\n",
       "      <td>3.490000e+02</td>\n",
       "      <td>1.071210e+07</td>\n",
       "      <td>1.000000</td>\n",
       "      <td>2.000000</td>\n",
       "      <td>280.000000</td>\n",
       "      <td>0.000000</td>\n",
       "      <td>0.000000</td>\n",
       "      <td>NaN</td>\n",
       "      <td>1.000000</td>\n",
       "      <td>1.000000</td>\n",
       "      <td>...</td>\n",
       "      <td>1.290000e+02</td>\n",
       "      <td>1.050400e+04</td>\n",
       "      <td>2016.0</td>\n",
       "      <td>2.250000e+03</td>\n",
       "      <td>51.260000</td>\n",
       "      <td>8.000000</td>\n",
       "      <td>6.037101e+13</td>\n",
       "      <td>1248.000000</td>\n",
       "      <td>1.071210e+07</td>\n",
       "      <td>-4.453964</td>\n",
       "    </tr>\n",
       "    <tr>\n",
       "      <th>25%</th>\n",
       "      <td>7.786892e+05</td>\n",
       "      <td>1.150329e+07</td>\n",
       "      <td>1.000000</td>\n",
       "      <td>7.000000</td>\n",
       "      <td>497.000000</td>\n",
       "      <td>2.000000</td>\n",
       "      <td>3.000000</td>\n",
       "      <td>NaN</td>\n",
       "      <td>5.000000</td>\n",
       "      <td>2.000000</td>\n",
       "      <td>...</td>\n",
       "      <td>7.910075e+04</td>\n",
       "      <td>1.986335e+05</td>\n",
       "      <td>2016.0</td>\n",
       "      <td>7.964625e+04</td>\n",
       "      <td>2707.960000</td>\n",
       "      <td>14.000000</td>\n",
       "      <td>6.037401e+13</td>\n",
       "      <td>37033.250000</td>\n",
       "      <td>1.150329e+07</td>\n",
       "      <td>-0.026889</td>\n",
       "    </tr>\n",
       "    <tr>\n",
       "      <th>50%</th>\n",
       "      <td>1.537406e+06</td>\n",
       "      <td>1.258458e+07</td>\n",
       "      <td>1.000000</td>\n",
       "      <td>7.000000</td>\n",
       "      <td>640.000000</td>\n",
       "      <td>2.000000</td>\n",
       "      <td>3.000000</td>\n",
       "      <td>NaN</td>\n",
       "      <td>6.000000</td>\n",
       "      <td>2.000000</td>\n",
       "      <td>...</td>\n",
       "      <td>1.356615e+05</td>\n",
       "      <td>3.851740e+05</td>\n",
       "      <td>2016.0</td>\n",
       "      <td>2.247385e+05</td>\n",
       "      <td>4775.900000</td>\n",
       "      <td>15.000000</td>\n",
       "      <td>6.037621e+13</td>\n",
       "      <td>42558.500000</td>\n",
       "      <td>1.258458e+07</td>\n",
       "      <td>0.004645</td>\n",
       "    </tr>\n",
       "    <tr>\n",
       "      <th>75%</th>\n",
       "      <td>2.260508e+06</td>\n",
       "      <td>1.414342e+07</td>\n",
       "      <td>1.000000</td>\n",
       "      <td>7.000000</td>\n",
       "      <td>865.500000</td>\n",
       "      <td>3.000000</td>\n",
       "      <td>4.000000</td>\n",
       "      <td>NaN</td>\n",
       "      <td>8.000000</td>\n",
       "      <td>3.000000</td>\n",
       "      <td>...</td>\n",
       "      <td>2.349185e+05</td>\n",
       "      <td>6.452412e+05</td>\n",
       "      <td>2016.0</td>\n",
       "      <td>4.235195e+05</td>\n",
       "      <td>7683.940000</td>\n",
       "      <td>15.000000</td>\n",
       "      <td>6.059042e+13</td>\n",
       "      <td>48039.750000</td>\n",
       "      <td>1.414342e+07</td>\n",
       "      <td>0.037333</td>\n",
       "    </tr>\n",
       "    <tr>\n",
       "      <th>max</th>\n",
       "      <td>2.982270e+06</td>\n",
       "      <td>1.676878e+08</td>\n",
       "      <td>13.000000</td>\n",
       "      <td>21.000000</td>\n",
       "      <td>1809.000000</td>\n",
       "      <td>11.000000</td>\n",
       "      <td>12.000000</td>\n",
       "      <td>NaN</td>\n",
       "      <td>12.000000</td>\n",
       "      <td>11.000000</td>\n",
       "      <td>...</td>\n",
       "      <td>7.893568e+06</td>\n",
       "      <td>2.385837e+07</td>\n",
       "      <td>2016.0</td>\n",
       "      <td>1.635060e+07</td>\n",
       "      <td>276797.830000</td>\n",
       "      <td>15.000000</td>\n",
       "      <td>6.111009e+13</td>\n",
       "      <td>53501.000000</td>\n",
       "      <td>1.676878e+08</td>\n",
       "      <td>3.175688</td>\n",
       "    </tr>\n",
       "  </tbody>\n",
       "</table>\n",
       "<p>8 rows × 59 columns</p>\n",
       "</div>"
      ],
      "text/plain": [
       "                 id      parcelid  airconditioningtypeid  \\\n",
       "count  1.503600e+04  1.503600e+04            3982.000000   \n",
       "mean   1.516020e+06  1.303819e+07               2.454043   \n",
       "std    8.597327e+05  3.927138e+06               3.858626   \n",
       "min    3.490000e+02  1.071210e+07               1.000000   \n",
       "25%    7.786892e+05  1.150329e+07               1.000000   \n",
       "50%    1.537406e+06  1.258458e+07               1.000000   \n",
       "75%    2.260508e+06  1.414342e+07               1.000000   \n",
       "max    2.982270e+06  1.676878e+08              13.000000   \n",
       "\n",
       "       architecturalstyletypeid  basementsqft   bathroomcnt    bedroomcnt  \\\n",
       "count                 15.000000     11.000000  15036.000000  15036.000000   \n",
       "mean                   7.600000    761.454545      2.322426      3.307595   \n",
       "std                    3.924283    444.816673      1.025202      0.951095   \n",
       "min                    2.000000    280.000000      0.000000      0.000000   \n",
       "25%                    7.000000    497.000000      2.000000      3.000000   \n",
       "50%                    7.000000    640.000000      2.000000      3.000000   \n",
       "75%                    7.000000    865.500000      3.000000      4.000000   \n",
       "max                   21.000000   1809.000000     11.000000     12.000000   \n",
       "\n",
       "       buildingclasstypeid  buildingqualitytypeid  calculatedbathnbr  ...  \\\n",
       "count                  0.0            9572.000000       14990.000000  ...   \n",
       "mean                   NaN               6.303385           2.328686  ...   \n",
       "std                    NaN               1.718302           1.019673  ...   \n",
       "min                    NaN               1.000000           1.000000  ...   \n",
       "25%                    NaN               5.000000           2.000000  ...   \n",
       "50%                    NaN               6.000000           2.000000  ...   \n",
       "75%                    NaN               8.000000           3.000000  ...   \n",
       "max                    NaN              12.000000          11.000000  ...   \n",
       "\n",
       "       structuretaxvaluedollarcnt  taxvaluedollarcnt  assessmentyear  \\\n",
       "count                1.501000e+04       1.503600e+04         15036.0   \n",
       "mean                 2.017709e+05       5.434477e+05          2016.0   \n",
       "std                  2.633235e+05       7.354153e+05             0.0   \n",
       "min                  1.290000e+02       1.050400e+04          2016.0   \n",
       "25%                  7.910075e+04       1.986335e+05          2016.0   \n",
       "50%                  1.356615e+05       3.851740e+05          2016.0   \n",
       "75%                  2.349185e+05       6.452412e+05          2016.0   \n",
       "max                  7.893568e+06       2.385837e+07          2016.0   \n",
       "\n",
       "       landtaxvaluedollarcnt      taxamount  taxdelinquencyyear  \\\n",
       "count           1.503600e+04   15035.000000          527.000000   \n",
       "mean            3.420257e+05    6618.896851           14.053131   \n",
       "std             5.287097e+05    8513.788079            1.496836   \n",
       "min             2.250000e+03      51.260000            8.000000   \n",
       "25%             7.964625e+04    2707.960000           14.000000   \n",
       "50%             2.247385e+05    4775.900000           15.000000   \n",
       "75%             4.235195e+05    7683.940000           15.000000   \n",
       "max             1.635060e+07  276797.830000           15.000000   \n",
       "\n",
       "       censustractandblock          id.1    parcelid.1      logerror  \n",
       "count         1.499000e+04  15036.000000  1.503600e+04  15036.000000  \n",
       "mean          6.049682e+13  42505.745611  1.303819e+07      0.014378  \n",
       "std           2.104661e+11   6477.676206  3.927138e+06      0.177396  \n",
       "min           6.037101e+13   1248.000000  1.071210e+07     -4.453964  \n",
       "25%           6.037401e+13  37033.250000  1.150329e+07     -0.026889  \n",
       "50%           6.037621e+13  42558.500000  1.258458e+07      0.004645  \n",
       "75%           6.059042e+13  48039.750000  1.414342e+07      0.037333  \n",
       "max           6.111009e+13  53501.000000  1.676878e+08      3.175688  \n",
       "\n",
       "[8 rows x 59 columns]"
      ]
     },
     "execution_count": 4,
     "metadata": {},
     "output_type": "execute_result"
    }
   ],
   "source": [
    "df.describe()"
   ]
  },
  {
   "cell_type": "markdown",
   "metadata": {},
   "source": [
    "<div class=\"alert alert-block alert-info\">Takeaways:\n",
    "\n",
    "- There are many columns with missing values.\n",
    "\n",
    "- There are repeat duplicate columns.\n",
    "\n",
    "- Some numerical columns are categorical.</div>"
   ]
  },
  {
   "cell_type": "code",
   "execution_count": 5,
   "metadata": {},
   "outputs": [
    {
     "name": "stdout",
     "output_type": "stream",
     "text": [
      "<class 'pandas.core.frame.DataFrame'>\n",
      "Int64Index: 15036 entries, 0 to 15035\n",
      "Data columns (total 63 columns):\n",
      " #   Column                        Non-Null Count  Dtype  \n",
      "---  ------                        --------------  -----  \n",
      " 0   id                            15036 non-null  int64  \n",
      " 1   parcelid                      15036 non-null  int64  \n",
      " 2   airconditioningtypeid         3982 non-null   float64\n",
      " 3   architecturalstyletypeid      15 non-null     float64\n",
      " 4   basementsqft                  11 non-null     float64\n",
      " 5   bathroomcnt                   15036 non-null  float64\n",
      " 6   bedroomcnt                    15036 non-null  float64\n",
      " 7   buildingclasstypeid           0 non-null      float64\n",
      " 8   buildingqualitytypeid         9572 non-null   float64\n",
      " 9   calculatedbathnbr             14990 non-null  float64\n",
      " 10  decktypeid                    107 non-null    float64\n",
      " 11  finishedfloor1squarefeet      1295 non-null   float64\n",
      " 12  calculatedfinishedsquarefeet  15012 non-null  float64\n",
      " 13  finishedsquarefeet12          14969 non-null  float64\n",
      " 14  finishedsquarefeet13          0 non-null      float64\n",
      " 15  finishedsquarefeet15          0 non-null      float64\n",
      " 16  finishedsquarefeet50          1295 non-null   float64\n",
      " 17  finishedsquarefeet6           43 non-null     float64\n",
      " 18  fips                          15036 non-null  float64\n",
      " 19  fireplacecnt                  2122 non-null   float64\n",
      " 20  fullbathcnt                   14990 non-null  float64\n",
      " 21  garagecarcnt                  5265 non-null   float64\n",
      " 22  garagetotalsqft               5265 non-null   float64\n",
      " 23  hashottuborspa                476 non-null    float64\n",
      " 24  heatingorsystemtypeid         9640 non-null   float64\n",
      " 25  latitude                      15036 non-null  float64\n",
      " 26  longitude                     15036 non-null  float64\n",
      " 27  lotsizesquarefeet             14932 non-null  float64\n",
      " 28  poolcnt                       3290 non-null   float64\n",
      " 29  poolsizesum                   267 non-null    float64\n",
      " 30  pooltypeid10                  134 non-null    float64\n",
      " 31  pooltypeid2                   342 non-null    float64\n",
      " 32  pooltypeid7                   2947 non-null   float64\n",
      " 33  propertycountylandusecode     15036 non-null  object \n",
      " 34  propertylandusetypeid         15036 non-null  float64\n",
      " 35  propertyzoningdesc            9612 non-null   object \n",
      " 36  rawcensustractandblock        15036 non-null  float64\n",
      " 37  regionidcity                  14742 non-null  float64\n",
      " 38  regionidcounty                15036 non-null  float64\n",
      " 39  regionidneighborhood          5503 non-null   float64\n",
      " 40  regionidzip                   15027 non-null  float64\n",
      " 41  roomcnt                       15036 non-null  float64\n",
      " 42  storytypeid                   11 non-null     float64\n",
      " 43  threequarterbathnbr           2009 non-null   float64\n",
      " 44  typeconstructiontypeid        16 non-null     float64\n",
      " 45  unitcnt                       9603 non-null   float64\n",
      " 46  yardbuildingsqft17            589 non-null    float64\n",
      " 47  yardbuildingsqft26            22 non-null     float64\n",
      " 48  yearbuilt                     14995 non-null  float64\n",
      " 49  numberofstories               4194 non-null   float64\n",
      " 50  fireplaceflag                 22 non-null     float64\n",
      " 51  structuretaxvaluedollarcnt    15010 non-null  float64\n",
      " 52  taxvaluedollarcnt             15036 non-null  float64\n",
      " 53  assessmentyear                15036 non-null  float64\n",
      " 54  landtaxvaluedollarcnt         15036 non-null  float64\n",
      " 55  taxamount                     15035 non-null  float64\n",
      " 56  taxdelinquencyflag            527 non-null    object \n",
      " 57  taxdelinquencyyear            527 non-null    float64\n",
      " 58  censustractandblock           14990 non-null  float64\n",
      " 59  id.1                          15036 non-null  int64  \n",
      " 60  parcelid.1                    15036 non-null  int64  \n",
      " 61  logerror                      15036 non-null  float64\n",
      " 62  transactiondate               15036 non-null  object \n",
      "dtypes: float64(55), int64(4), object(4)\n",
      "memory usage: 7.3+ MB\n"
     ]
    }
   ],
   "source": [
    "df.info()"
   ]
  },
  {
   "cell_type": "markdown",
   "metadata": {},
   "source": [
    "### Columns to drop based on nulls:\n",
    "- airconditioningtypeid\n",
    "- architecturalstyletypeid\n",
    "- basementsqft\n",
    "- buildingclasstypeid\n",
    "- decktypeid \n",
    "- finishedfloor1squarefeet\n",
    "- finishedsquarefeetX (5 columns)\n",
    "- fireplacecnt\n",
    "- hashottuborspa\n",
    "- poolsizesum\n",
    "- pooltypeidX (3 columns)\n",
    "- storytypeid\n",
    "- threequarterbathnbr\n",
    "- typeconstructiontypeid\n",
    "- yardbuildingsqftX (2 columns)\n",
    "- fireplaceflag\n",
    "- taxdelinquencyflag\n",
    "- taxdelinquincyyear\n",
    "- numberofstories\n",
    "- heatingorsystemtypeid\n",
    "- garagecarcnt\n",
    "- garagetotalsqft\n",
    "\n",
    "### Columns to drop based on relevance\n",
    "**ParcelId/Id:**\n",
    "- Will not need in the model.\n",
    "\n",
    "**Buildingqualitytypeid:**\n",
    "- No information on building quality type id.\n",
    "\n",
    "**Calculatedbathnbr:**\n",
    "- Seems to just be the bathroom count.\n",
    "\n",
    "**latitude & longitude:**\n",
    "- Not relevant to property value when we have county information.\n",
    "\n",
    "**Propertylandusetypeid:**\n",
    "- All 261 because we are only looking at single family residential properties.\n",
    "\n",
    "**Rawcensustractandblock:**\n",
    "- Seems to be population of some sort which has little relevance to our target.\n",
    "\n",
    "**Regionidcity, regionidcounty, regionidneighborhood, regionidzip:**\n",
    "- Will be using fips which provides county information which we will be using for location data.\n",
    "\n",
    "**Unitcnt:**\n",
    "- Should all be 1 due to these being 1 unit properties.\n",
    "\n",
    "**structure/landtaxvaluedollarcnt:**\n",
    "- We are looking for tax value of the property not the structure itself.\n",
    "\n",
    "**assessmentyear:**\n",
    "- These are all for 2017 so the assessments are all 2016.\n",
    "\n",
    "**taxamount:**\n",
    "- Tax amount uses data we haven't looked at yet and is dependent on our target variable.\n",
    "\n",
    "**censustractandblock:**\n",
    "- Doesn't seem to be relevant to property value.\n",
    "\n",
    "**transactiondate:**\n",
    "- We already know that these are between the months of may and june, the individual day doesn't matter.\n",
    "\n",
    "**propertyzoningdesc:**\n",
    "- categorical with many different variables that doesn't seem too relevant to our target.\n",
    "\n",
    "**propertycountylandusecode:**\n",
    "- categorical of what type of property should be on that land."
   ]
  },
  {
   "cell_type": "code",
   "execution_count": 6,
   "metadata": {},
   "outputs": [],
   "source": [
    "columns_to_drop = ['airconditioningtypeid', 'architecturalstyletypeid', 'basementsqft', 'buildingclasstypeid',\n",
    "                  'decktypeid', 'finishedfloor1squarefeet', 'finishedsquarefeet12', 'finishedsquarefeet13',\n",
    "                  'finishedsquarefeet15', 'finishedsquarefeet50', 'finishedsquarefeet6', 'fireplacecnt',\n",
    "                  'hashottuborspa', 'poolsizesum', 'pooltypeid10', 'pooltypeid2', 'pooltypeid7', 'storytypeid',\n",
    "                  'threequarterbathnbr', 'typeconstructiontypeid', 'yardbuildingsqft17', 'yardbuildingsqft26',\n",
    "                  'fireplaceflag', 'taxdelinquencyflag', 'taxdelinquencyyear', 'id', 'buildingqualitytypeid',\n",
    "                  'calculatedbathnbr', 'latitude', 'longitude', 'propertylandusetypeid', 'rawcensustractandblock',\n",
    "                  'regionidcity', 'regionidcounty', 'regionidneighborhood', 'regionidzip', 'unitcnt',\n",
    "                  'structuretaxvaluedollarcnt', 'landtaxvaluedollarcnt', 'assessmentyear', 'taxamount',\n",
    "                  'censustractandblock', 'transactiondate', 'propertyzoningdesc', 'logerror', 'parcelid',\n",
    "                  'numberofstories', 'garagecarcnt', 'garagetotalsqft', 'heatingorsystemtypeid', 'propertycountylandusecode',\n",
    "                  'id.1', 'parcelid.1']"
   ]
  },
  {
   "cell_type": "code",
   "execution_count": 7,
   "metadata": {},
   "outputs": [
    {
     "data": {
      "text/html": [
       "<div>\n",
       "<style scoped>\n",
       "    .dataframe tbody tr th:only-of-type {\n",
       "        vertical-align: middle;\n",
       "    }\n",
       "\n",
       "    .dataframe tbody tr th {\n",
       "        vertical-align: top;\n",
       "    }\n",
       "\n",
       "    .dataframe thead th {\n",
       "        text-align: right;\n",
       "    }\n",
       "</style>\n",
       "<table border=\"1\" class=\"dataframe\">\n",
       "  <thead>\n",
       "    <tr style=\"text-align: right;\">\n",
       "      <th></th>\n",
       "      <th>bathroomcnt</th>\n",
       "      <th>bedroomcnt</th>\n",
       "      <th>calculatedfinishedsquarefeet</th>\n",
       "      <th>fips</th>\n",
       "      <th>fullbathcnt</th>\n",
       "      <th>lotsizesquarefeet</th>\n",
       "      <th>poolcnt</th>\n",
       "      <th>roomcnt</th>\n",
       "      <th>yearbuilt</th>\n",
       "      <th>taxvaluedollarcnt</th>\n",
       "    </tr>\n",
       "  </thead>\n",
       "  <tbody>\n",
       "    <tr>\n",
       "      <th>0</th>\n",
       "      <td>2.0</td>\n",
       "      <td>3.0</td>\n",
       "      <td>1458.0</td>\n",
       "      <td>6037.0</td>\n",
       "      <td>2.0</td>\n",
       "      <td>8284.0</td>\n",
       "      <td>1.0</td>\n",
       "      <td>0.0</td>\n",
       "      <td>1970.0</td>\n",
       "      <td>136104.0</td>\n",
       "    </tr>\n",
       "    <tr>\n",
       "      <th>1</th>\n",
       "      <td>1.0</td>\n",
       "      <td>2.0</td>\n",
       "      <td>1421.0</td>\n",
       "      <td>6037.0</td>\n",
       "      <td>1.0</td>\n",
       "      <td>6707.0</td>\n",
       "      <td>NaN</td>\n",
       "      <td>0.0</td>\n",
       "      <td>1911.0</td>\n",
       "      <td>35606.0</td>\n",
       "    </tr>\n",
       "    <tr>\n",
       "      <th>2</th>\n",
       "      <td>3.0</td>\n",
       "      <td>4.0</td>\n",
       "      <td>2541.0</td>\n",
       "      <td>6059.0</td>\n",
       "      <td>3.0</td>\n",
       "      <td>4975.0</td>\n",
       "      <td>NaN</td>\n",
       "      <td>0.0</td>\n",
       "      <td>2003.0</td>\n",
       "      <td>880456.0</td>\n",
       "    </tr>\n",
       "    <tr>\n",
       "      <th>3</th>\n",
       "      <td>2.0</td>\n",
       "      <td>3.0</td>\n",
       "      <td>1650.0</td>\n",
       "      <td>6037.0</td>\n",
       "      <td>2.0</td>\n",
       "      <td>7300.0</td>\n",
       "      <td>NaN</td>\n",
       "      <td>0.0</td>\n",
       "      <td>1949.0</td>\n",
       "      <td>614000.0</td>\n",
       "    </tr>\n",
       "    <tr>\n",
       "      <th>4</th>\n",
       "      <td>1.0</td>\n",
       "      <td>2.0</td>\n",
       "      <td>693.0</td>\n",
       "      <td>6037.0</td>\n",
       "      <td>1.0</td>\n",
       "      <td>2908.0</td>\n",
       "      <td>NaN</td>\n",
       "      <td>0.0</td>\n",
       "      <td>1921.0</td>\n",
       "      <td>274237.0</td>\n",
       "    </tr>\n",
       "  </tbody>\n",
       "</table>\n",
       "</div>"
      ],
      "text/plain": [
       "   bathroomcnt  bedroomcnt  calculatedfinishedsquarefeet    fips  fullbathcnt  \\\n",
       "0          2.0         3.0                        1458.0  6037.0          2.0   \n",
       "1          1.0         2.0                        1421.0  6037.0          1.0   \n",
       "2          3.0         4.0                        2541.0  6059.0          3.0   \n",
       "3          2.0         3.0                        1650.0  6037.0          2.0   \n",
       "4          1.0         2.0                         693.0  6037.0          1.0   \n",
       "\n",
       "   lotsizesquarefeet  poolcnt  roomcnt  yearbuilt  taxvaluedollarcnt  \n",
       "0             8284.0      1.0      0.0     1970.0           136104.0  \n",
       "1             6707.0      NaN      0.0     1911.0            35606.0  \n",
       "2             4975.0      NaN      0.0     2003.0           880456.0  \n",
       "3             7300.0      NaN      0.0     1949.0           614000.0  \n",
       "4             2908.0      NaN      0.0     1921.0           274237.0  "
      ]
     },
     "execution_count": 7,
     "metadata": {},
     "output_type": "execute_result"
    }
   ],
   "source": [
    "df = df.drop(columns=columns_to_drop)\n",
    "df.head()"
   ]
  },
  {
   "cell_type": "code",
   "execution_count": 8,
   "metadata": {},
   "outputs": [
    {
     "name": "stdout",
     "output_type": "stream",
     "text": [
      "<class 'pandas.core.frame.DataFrame'>\n",
      "Int64Index: 15036 entries, 0 to 15035\n",
      "Data columns (total 10 columns):\n",
      " #   Column                        Non-Null Count  Dtype  \n",
      "---  ------                        --------------  -----  \n",
      " 0   bathroomcnt                   15036 non-null  float64\n",
      " 1   bedroomcnt                    15036 non-null  float64\n",
      " 2   calculatedfinishedsquarefeet  15012 non-null  float64\n",
      " 3   fips                          15036 non-null  float64\n",
      " 4   fullbathcnt                   14990 non-null  float64\n",
      " 5   lotsizesquarefeet             14932 non-null  float64\n",
      " 6   poolcnt                       3290 non-null   float64\n",
      " 7   roomcnt                       15036 non-null  float64\n",
      " 8   yearbuilt                     14995 non-null  float64\n",
      " 9   taxvaluedollarcnt             15036 non-null  float64\n",
      "dtypes: float64(10)\n",
      "memory usage: 1.3 MB\n"
     ]
    }
   ],
   "source": [
    "df.info()"
   ]
  },
  {
   "cell_type": "markdown",
   "metadata": {},
   "source": [
    "<div class=\"alert alert-block alert-info\">There are still some columns with null values, but first we will be changing the names of some columns to be more readable.</div>"
   ]
  },
  {
   "cell_type": "code",
   "execution_count": 9,
   "metadata": {},
   "outputs": [],
   "source": [
    "df = df.rename(columns={'bathroomcnt': 'bathroom', 'bedroomcnt': 'bedroom', 'calculatedfinishedsquarefeet': 'sqft',\n",
    "                        'taxvaluedollarcnt': 'propertytaxvalue', 'lotsizesquarefeet': 'lotsqft'})"
   ]
  },
  {
   "cell_type": "code",
   "execution_count": 10,
   "metadata": {},
   "outputs": [
    {
     "data": {
      "text/html": [
       "<div>\n",
       "<style scoped>\n",
       "    .dataframe tbody tr th:only-of-type {\n",
       "        vertical-align: middle;\n",
       "    }\n",
       "\n",
       "    .dataframe tbody tr th {\n",
       "        vertical-align: top;\n",
       "    }\n",
       "\n",
       "    .dataframe thead th {\n",
       "        text-align: right;\n",
       "    }\n",
       "</style>\n",
       "<table border=\"1\" class=\"dataframe\">\n",
       "  <thead>\n",
       "    <tr style=\"text-align: right;\">\n",
       "      <th></th>\n",
       "      <th>bathroom</th>\n",
       "      <th>bedroom</th>\n",
       "      <th>sqft</th>\n",
       "      <th>fips</th>\n",
       "      <th>fullbathcnt</th>\n",
       "      <th>lotsqft</th>\n",
       "      <th>poolcnt</th>\n",
       "      <th>roomcnt</th>\n",
       "      <th>yearbuilt</th>\n",
       "      <th>propertytaxvalue</th>\n",
       "    </tr>\n",
       "  </thead>\n",
       "  <tbody>\n",
       "    <tr>\n",
       "      <th>0</th>\n",
       "      <td>2.0</td>\n",
       "      <td>3.0</td>\n",
       "      <td>1458.0</td>\n",
       "      <td>6037.0</td>\n",
       "      <td>2.0</td>\n",
       "      <td>8284.0</td>\n",
       "      <td>1.0</td>\n",
       "      <td>0.0</td>\n",
       "      <td>1970.0</td>\n",
       "      <td>136104.0</td>\n",
       "    </tr>\n",
       "    <tr>\n",
       "      <th>1</th>\n",
       "      <td>1.0</td>\n",
       "      <td>2.0</td>\n",
       "      <td>1421.0</td>\n",
       "      <td>6037.0</td>\n",
       "      <td>1.0</td>\n",
       "      <td>6707.0</td>\n",
       "      <td>NaN</td>\n",
       "      <td>0.0</td>\n",
       "      <td>1911.0</td>\n",
       "      <td>35606.0</td>\n",
       "    </tr>\n",
       "    <tr>\n",
       "      <th>2</th>\n",
       "      <td>3.0</td>\n",
       "      <td>4.0</td>\n",
       "      <td>2541.0</td>\n",
       "      <td>6059.0</td>\n",
       "      <td>3.0</td>\n",
       "      <td>4975.0</td>\n",
       "      <td>NaN</td>\n",
       "      <td>0.0</td>\n",
       "      <td>2003.0</td>\n",
       "      <td>880456.0</td>\n",
       "    </tr>\n",
       "    <tr>\n",
       "      <th>3</th>\n",
       "      <td>2.0</td>\n",
       "      <td>3.0</td>\n",
       "      <td>1650.0</td>\n",
       "      <td>6037.0</td>\n",
       "      <td>2.0</td>\n",
       "      <td>7300.0</td>\n",
       "      <td>NaN</td>\n",
       "      <td>0.0</td>\n",
       "      <td>1949.0</td>\n",
       "      <td>614000.0</td>\n",
       "    </tr>\n",
       "    <tr>\n",
       "      <th>4</th>\n",
       "      <td>1.0</td>\n",
       "      <td>2.0</td>\n",
       "      <td>693.0</td>\n",
       "      <td>6037.0</td>\n",
       "      <td>1.0</td>\n",
       "      <td>2908.0</td>\n",
       "      <td>NaN</td>\n",
       "      <td>0.0</td>\n",
       "      <td>1921.0</td>\n",
       "      <td>274237.0</td>\n",
       "    </tr>\n",
       "  </tbody>\n",
       "</table>\n",
       "</div>"
      ],
      "text/plain": [
       "   bathroom  bedroom    sqft    fips  fullbathcnt  lotsqft  poolcnt  roomcnt  \\\n",
       "0       2.0      3.0  1458.0  6037.0          2.0   8284.0      1.0      0.0   \n",
       "1       1.0      2.0  1421.0  6037.0          1.0   6707.0      NaN      0.0   \n",
       "2       3.0      4.0  2541.0  6059.0          3.0   4975.0      NaN      0.0   \n",
       "3       2.0      3.0  1650.0  6037.0          2.0   7300.0      NaN      0.0   \n",
       "4       1.0      2.0   693.0  6037.0          1.0   2908.0      NaN      0.0   \n",
       "\n",
       "   yearbuilt  propertytaxvalue  \n",
       "0     1970.0          136104.0  \n",
       "1     1911.0           35606.0  \n",
       "2     2003.0          880456.0  \n",
       "3     1949.0          614000.0  \n",
       "4     1921.0          274237.0  "
      ]
     },
     "execution_count": 10,
     "metadata": {},
     "output_type": "execute_result"
    }
   ],
   "source": [
    "df.head()"
   ]
  },
  {
   "cell_type": "code",
   "execution_count": 11,
   "metadata": {},
   "outputs": [
    {
     "data": {
      "text/html": [
       "<div>\n",
       "<style scoped>\n",
       "    .dataframe tbody tr th:only-of-type {\n",
       "        vertical-align: middle;\n",
       "    }\n",
       "\n",
       "    .dataframe tbody tr th {\n",
       "        vertical-align: top;\n",
       "    }\n",
       "\n",
       "    .dataframe thead th {\n",
       "        text-align: right;\n",
       "    }\n",
       "</style>\n",
       "<table border=\"1\" class=\"dataframe\">\n",
       "  <thead>\n",
       "    <tr style=\"text-align: right;\">\n",
       "      <th></th>\n",
       "      <th>bathroom</th>\n",
       "      <th>bedroom</th>\n",
       "      <th>sqft</th>\n",
       "      <th>fips</th>\n",
       "      <th>fullbathcnt</th>\n",
       "      <th>lotsqft</th>\n",
       "      <th>poolcnt</th>\n",
       "      <th>roomcnt</th>\n",
       "      <th>yearbuilt</th>\n",
       "      <th>propertytaxvalue</th>\n",
       "    </tr>\n",
       "  </thead>\n",
       "  <tbody>\n",
       "    <tr>\n",
       "      <th>count</th>\n",
       "      <td>15036.000000</td>\n",
       "      <td>15036.000000</td>\n",
       "      <td>15012.000000</td>\n",
       "      <td>15036.000000</td>\n",
       "      <td>14990.000000</td>\n",
       "      <td>1.493200e+04</td>\n",
       "      <td>3290.0</td>\n",
       "      <td>15036.000000</td>\n",
       "      <td>14995.000000</td>\n",
       "      <td>1.503600e+04</td>\n",
       "    </tr>\n",
       "    <tr>\n",
       "      <th>mean</th>\n",
       "      <td>2.322426</td>\n",
       "      <td>3.307595</td>\n",
       "      <td>1942.043165</td>\n",
       "      <td>6049.395318</td>\n",
       "      <td>2.260841</td>\n",
       "      <td>1.062587e+04</td>\n",
       "      <td>1.0</td>\n",
       "      <td>1.909284</td>\n",
       "      <td>1963.853084</td>\n",
       "      <td>5.434477e+05</td>\n",
       "    </tr>\n",
       "    <tr>\n",
       "      <th>std</th>\n",
       "      <td>1.025202</td>\n",
       "      <td>0.951095</td>\n",
       "      <td>1001.672378</td>\n",
       "      <td>21.237001</td>\n",
       "      <td>0.994149</td>\n",
       "      <td>3.028759e+04</td>\n",
       "      <td>0.0</td>\n",
       "      <td>3.162112</td>\n",
       "      <td>23.329705</td>\n",
       "      <td>7.354153e+05</td>\n",
       "    </tr>\n",
       "    <tr>\n",
       "      <th>min</th>\n",
       "      <td>0.000000</td>\n",
       "      <td>0.000000</td>\n",
       "      <td>300.000000</td>\n",
       "      <td>6037.000000</td>\n",
       "      <td>1.000000</td>\n",
       "      <td>5.940000e+02</td>\n",
       "      <td>1.0</td>\n",
       "      <td>0.000000</td>\n",
       "      <td>1878.000000</td>\n",
       "      <td>1.050400e+04</td>\n",
       "    </tr>\n",
       "    <tr>\n",
       "      <th>25%</th>\n",
       "      <td>2.000000</td>\n",
       "      <td>3.000000</td>\n",
       "      <td>1274.750000</td>\n",
       "      <td>6037.000000</td>\n",
       "      <td>2.000000</td>\n",
       "      <td>5.597000e+03</td>\n",
       "      <td>1.0</td>\n",
       "      <td>0.000000</td>\n",
       "      <td>1950.000000</td>\n",
       "      <td>1.986335e+05</td>\n",
       "    </tr>\n",
       "    <tr>\n",
       "      <th>50%</th>\n",
       "      <td>2.000000</td>\n",
       "      <td>3.000000</td>\n",
       "      <td>1679.000000</td>\n",
       "      <td>6037.000000</td>\n",
       "      <td>2.000000</td>\n",
       "      <td>6.876500e+03</td>\n",
       "      <td>1.0</td>\n",
       "      <td>0.000000</td>\n",
       "      <td>1961.000000</td>\n",
       "      <td>3.851740e+05</td>\n",
       "    </tr>\n",
       "    <tr>\n",
       "      <th>75%</th>\n",
       "      <td>3.000000</td>\n",
       "      <td>4.000000</td>\n",
       "      <td>2346.000000</td>\n",
       "      <td>6059.000000</td>\n",
       "      <td>3.000000</td>\n",
       "      <td>8.888000e+03</td>\n",
       "      <td>1.0</td>\n",
       "      <td>5.000000</td>\n",
       "      <td>1980.000000</td>\n",
       "      <td>6.452412e+05</td>\n",
       "    </tr>\n",
       "    <tr>\n",
       "      <th>max</th>\n",
       "      <td>11.000000</td>\n",
       "      <td>12.000000</td>\n",
       "      <td>15450.000000</td>\n",
       "      <td>6111.000000</td>\n",
       "      <td>11.000000</td>\n",
       "      <td>1.323788e+06</td>\n",
       "      <td>1.0</td>\n",
       "      <td>14.000000</td>\n",
       "      <td>2015.000000</td>\n",
       "      <td>2.385837e+07</td>\n",
       "    </tr>\n",
       "  </tbody>\n",
       "</table>\n",
       "</div>"
      ],
      "text/plain": [
       "           bathroom       bedroom          sqft          fips   fullbathcnt  \\\n",
       "count  15036.000000  15036.000000  15012.000000  15036.000000  14990.000000   \n",
       "mean       2.322426      3.307595   1942.043165   6049.395318      2.260841   \n",
       "std        1.025202      0.951095   1001.672378     21.237001      0.994149   \n",
       "min        0.000000      0.000000    300.000000   6037.000000      1.000000   \n",
       "25%        2.000000      3.000000   1274.750000   6037.000000      2.000000   \n",
       "50%        2.000000      3.000000   1679.000000   6037.000000      2.000000   \n",
       "75%        3.000000      4.000000   2346.000000   6059.000000      3.000000   \n",
       "max       11.000000     12.000000  15450.000000   6111.000000     11.000000   \n",
       "\n",
       "            lotsqft  poolcnt       roomcnt     yearbuilt  propertytaxvalue  \n",
       "count  1.493200e+04   3290.0  15036.000000  14995.000000      1.503600e+04  \n",
       "mean   1.062587e+04      1.0      1.909284   1963.853084      5.434477e+05  \n",
       "std    3.028759e+04      0.0      3.162112     23.329705      7.354153e+05  \n",
       "min    5.940000e+02      1.0      0.000000   1878.000000      1.050400e+04  \n",
       "25%    5.597000e+03      1.0      0.000000   1950.000000      1.986335e+05  \n",
       "50%    6.876500e+03      1.0      0.000000   1961.000000      3.851740e+05  \n",
       "75%    8.888000e+03      1.0      5.000000   1980.000000      6.452412e+05  \n",
       "max    1.323788e+06      1.0     14.000000   2015.000000      2.385837e+07  "
      ]
     },
     "execution_count": 11,
     "metadata": {},
     "output_type": "execute_result"
    }
   ],
   "source": [
    "df.describe()"
   ]
  },
  {
   "cell_type": "markdown",
   "metadata": {},
   "source": [
    "<div class=\"alert alert-block alert-info\">The pool count column has a lot of null values but a minimum of 1. We decided to replace null values with zeros.</div>"
   ]
  },
  {
   "cell_type": "code",
   "execution_count": 12,
   "metadata": {},
   "outputs": [],
   "source": [
    "df['poolcnt'] = df.poolcnt.fillna(0)"
   ]
  },
  {
   "cell_type": "code",
   "execution_count": 13,
   "metadata": {},
   "outputs": [
    {
     "data": {
      "text/html": [
       "<div>\n",
       "<style scoped>\n",
       "    .dataframe tbody tr th:only-of-type {\n",
       "        vertical-align: middle;\n",
       "    }\n",
       "\n",
       "    .dataframe tbody tr th {\n",
       "        vertical-align: top;\n",
       "    }\n",
       "\n",
       "    .dataframe thead th {\n",
       "        text-align: right;\n",
       "    }\n",
       "</style>\n",
       "<table border=\"1\" class=\"dataframe\">\n",
       "  <thead>\n",
       "    <tr style=\"text-align: right;\">\n",
       "      <th></th>\n",
       "      <th>bathroom</th>\n",
       "      <th>bedroom</th>\n",
       "      <th>sqft</th>\n",
       "      <th>fips</th>\n",
       "      <th>fullbathcnt</th>\n",
       "      <th>lotsqft</th>\n",
       "      <th>poolcnt</th>\n",
       "      <th>roomcnt</th>\n",
       "      <th>yearbuilt</th>\n",
       "      <th>propertytaxvalue</th>\n",
       "    </tr>\n",
       "  </thead>\n",
       "  <tbody>\n",
       "    <tr>\n",
       "      <th>0</th>\n",
       "      <td>2.0</td>\n",
       "      <td>3.0</td>\n",
       "      <td>1458.0</td>\n",
       "      <td>6037.0</td>\n",
       "      <td>2.0</td>\n",
       "      <td>8284.0</td>\n",
       "      <td>1.0</td>\n",
       "      <td>0.0</td>\n",
       "      <td>1970.0</td>\n",
       "      <td>136104.0</td>\n",
       "    </tr>\n",
       "    <tr>\n",
       "      <th>1</th>\n",
       "      <td>1.0</td>\n",
       "      <td>2.0</td>\n",
       "      <td>1421.0</td>\n",
       "      <td>6037.0</td>\n",
       "      <td>1.0</td>\n",
       "      <td>6707.0</td>\n",
       "      <td>0.0</td>\n",
       "      <td>0.0</td>\n",
       "      <td>1911.0</td>\n",
       "      <td>35606.0</td>\n",
       "    </tr>\n",
       "    <tr>\n",
       "      <th>2</th>\n",
       "      <td>3.0</td>\n",
       "      <td>4.0</td>\n",
       "      <td>2541.0</td>\n",
       "      <td>6059.0</td>\n",
       "      <td>3.0</td>\n",
       "      <td>4975.0</td>\n",
       "      <td>0.0</td>\n",
       "      <td>0.0</td>\n",
       "      <td>2003.0</td>\n",
       "      <td>880456.0</td>\n",
       "    </tr>\n",
       "    <tr>\n",
       "      <th>3</th>\n",
       "      <td>2.0</td>\n",
       "      <td>3.0</td>\n",
       "      <td>1650.0</td>\n",
       "      <td>6037.0</td>\n",
       "      <td>2.0</td>\n",
       "      <td>7300.0</td>\n",
       "      <td>0.0</td>\n",
       "      <td>0.0</td>\n",
       "      <td>1949.0</td>\n",
       "      <td>614000.0</td>\n",
       "    </tr>\n",
       "    <tr>\n",
       "      <th>4</th>\n",
       "      <td>1.0</td>\n",
       "      <td>2.0</td>\n",
       "      <td>693.0</td>\n",
       "      <td>6037.0</td>\n",
       "      <td>1.0</td>\n",
       "      <td>2908.0</td>\n",
       "      <td>0.0</td>\n",
       "      <td>0.0</td>\n",
       "      <td>1921.0</td>\n",
       "      <td>274237.0</td>\n",
       "    </tr>\n",
       "  </tbody>\n",
       "</table>\n",
       "</div>"
      ],
      "text/plain": [
       "   bathroom  bedroom    sqft    fips  fullbathcnt  lotsqft  poolcnt  roomcnt  \\\n",
       "0       2.0      3.0  1458.0  6037.0          2.0   8284.0      1.0      0.0   \n",
       "1       1.0      2.0  1421.0  6037.0          1.0   6707.0      0.0      0.0   \n",
       "2       3.0      4.0  2541.0  6059.0          3.0   4975.0      0.0      0.0   \n",
       "3       2.0      3.0  1650.0  6037.0          2.0   7300.0      0.0      0.0   \n",
       "4       1.0      2.0   693.0  6037.0          1.0   2908.0      0.0      0.0   \n",
       "\n",
       "   yearbuilt  propertytaxvalue  \n",
       "0     1970.0          136104.0  \n",
       "1     1911.0           35606.0  \n",
       "2     2003.0          880456.0  \n",
       "3     1949.0          614000.0  \n",
       "4     1921.0          274237.0  "
      ]
     },
     "execution_count": 13,
     "metadata": {},
     "output_type": "execute_result"
    }
   ],
   "source": [
    "df.head()"
   ]
  },
  {
   "cell_type": "markdown",
   "metadata": {},
   "source": [
    "<div class=\"alert alert-block alert-info\">There are properties that have a zero in the room count while having bathroom and bedroom counts. Rather than remove zeros we decided to replace any zeros with the sum of the bathroom and bedroom count.</div>"
   ]
  },
  {
   "cell_type": "code",
   "execution_count": 14,
   "metadata": {},
   "outputs": [],
   "source": [
    "df['roomcnt'] = np.where(df['roomcnt'] == 0.0, (df.bathroom + df.bedroom), df['roomcnt'])"
   ]
  },
  {
   "cell_type": "code",
   "execution_count": 15,
   "metadata": {},
   "outputs": [
    {
     "data": {
      "text/html": [
       "<div>\n",
       "<style scoped>\n",
       "    .dataframe tbody tr th:only-of-type {\n",
       "        vertical-align: middle;\n",
       "    }\n",
       "\n",
       "    .dataframe tbody tr th {\n",
       "        vertical-align: top;\n",
       "    }\n",
       "\n",
       "    .dataframe thead th {\n",
       "        text-align: right;\n",
       "    }\n",
       "</style>\n",
       "<table border=\"1\" class=\"dataframe\">\n",
       "  <thead>\n",
       "    <tr style=\"text-align: right;\">\n",
       "      <th></th>\n",
       "      <th>bathroom</th>\n",
       "      <th>bedroom</th>\n",
       "      <th>sqft</th>\n",
       "      <th>fips</th>\n",
       "      <th>fullbathcnt</th>\n",
       "      <th>lotsqft</th>\n",
       "      <th>poolcnt</th>\n",
       "      <th>roomcnt</th>\n",
       "      <th>yearbuilt</th>\n",
       "      <th>propertytaxvalue</th>\n",
       "    </tr>\n",
       "  </thead>\n",
       "  <tbody>\n",
       "    <tr>\n",
       "      <th>0</th>\n",
       "      <td>2.0</td>\n",
       "      <td>3.0</td>\n",
       "      <td>1458.0</td>\n",
       "      <td>6037.0</td>\n",
       "      <td>2.0</td>\n",
       "      <td>8284.0</td>\n",
       "      <td>1.0</td>\n",
       "      <td>5.0</td>\n",
       "      <td>1970.0</td>\n",
       "      <td>136104.0</td>\n",
       "    </tr>\n",
       "    <tr>\n",
       "      <th>1</th>\n",
       "      <td>1.0</td>\n",
       "      <td>2.0</td>\n",
       "      <td>1421.0</td>\n",
       "      <td>6037.0</td>\n",
       "      <td>1.0</td>\n",
       "      <td>6707.0</td>\n",
       "      <td>0.0</td>\n",
       "      <td>3.0</td>\n",
       "      <td>1911.0</td>\n",
       "      <td>35606.0</td>\n",
       "    </tr>\n",
       "    <tr>\n",
       "      <th>2</th>\n",
       "      <td>3.0</td>\n",
       "      <td>4.0</td>\n",
       "      <td>2541.0</td>\n",
       "      <td>6059.0</td>\n",
       "      <td>3.0</td>\n",
       "      <td>4975.0</td>\n",
       "      <td>0.0</td>\n",
       "      <td>7.0</td>\n",
       "      <td>2003.0</td>\n",
       "      <td>880456.0</td>\n",
       "    </tr>\n",
       "    <tr>\n",
       "      <th>3</th>\n",
       "      <td>2.0</td>\n",
       "      <td>3.0</td>\n",
       "      <td>1650.0</td>\n",
       "      <td>6037.0</td>\n",
       "      <td>2.0</td>\n",
       "      <td>7300.0</td>\n",
       "      <td>0.0</td>\n",
       "      <td>5.0</td>\n",
       "      <td>1949.0</td>\n",
       "      <td>614000.0</td>\n",
       "    </tr>\n",
       "    <tr>\n",
       "      <th>4</th>\n",
       "      <td>1.0</td>\n",
       "      <td>2.0</td>\n",
       "      <td>693.0</td>\n",
       "      <td>6037.0</td>\n",
       "      <td>1.0</td>\n",
       "      <td>2908.0</td>\n",
       "      <td>0.0</td>\n",
       "      <td>3.0</td>\n",
       "      <td>1921.0</td>\n",
       "      <td>274237.0</td>\n",
       "    </tr>\n",
       "  </tbody>\n",
       "</table>\n",
       "</div>"
      ],
      "text/plain": [
       "   bathroom  bedroom    sqft    fips  fullbathcnt  lotsqft  poolcnt  roomcnt  \\\n",
       "0       2.0      3.0  1458.0  6037.0          2.0   8284.0      1.0      5.0   \n",
       "1       1.0      2.0  1421.0  6037.0          1.0   6707.0      0.0      3.0   \n",
       "2       3.0      4.0  2541.0  6059.0          3.0   4975.0      0.0      7.0   \n",
       "3       2.0      3.0  1650.0  6037.0          2.0   7300.0      0.0      5.0   \n",
       "4       1.0      2.0   693.0  6037.0          1.0   2908.0      0.0      3.0   \n",
       "\n",
       "   yearbuilt  propertytaxvalue  \n",
       "0     1970.0          136104.0  \n",
       "1     1911.0           35606.0  \n",
       "2     2003.0          880456.0  \n",
       "3     1949.0          614000.0  \n",
       "4     1921.0          274237.0  "
      ]
     },
     "execution_count": 15,
     "metadata": {},
     "output_type": "execute_result"
    }
   ],
   "source": [
    "df.head()"
   ]
  },
  {
   "cell_type": "code",
   "execution_count": 16,
   "metadata": {},
   "outputs": [
    {
     "data": {
      "text/html": [
       "<div>\n",
       "<style scoped>\n",
       "    .dataframe tbody tr th:only-of-type {\n",
       "        vertical-align: middle;\n",
       "    }\n",
       "\n",
       "    .dataframe tbody tr th {\n",
       "        vertical-align: top;\n",
       "    }\n",
       "\n",
       "    .dataframe thead th {\n",
       "        text-align: right;\n",
       "    }\n",
       "</style>\n",
       "<table border=\"1\" class=\"dataframe\">\n",
       "  <thead>\n",
       "    <tr style=\"text-align: right;\">\n",
       "      <th></th>\n",
       "      <th>bathroom</th>\n",
       "      <th>bedroom</th>\n",
       "      <th>sqft</th>\n",
       "      <th>fips</th>\n",
       "      <th>fullbathcnt</th>\n",
       "      <th>lotsqft</th>\n",
       "      <th>poolcnt</th>\n",
       "      <th>roomcnt</th>\n",
       "      <th>yearbuilt</th>\n",
       "      <th>propertytaxvalue</th>\n",
       "    </tr>\n",
       "  </thead>\n",
       "  <tbody>\n",
       "    <tr>\n",
       "      <th>5</th>\n",
       "      <td>0.0</td>\n",
       "      <td>0.0</td>\n",
       "      <td>1378.0</td>\n",
       "      <td>6037.0</td>\n",
       "      <td>NaN</td>\n",
       "      <td>7500.0</td>\n",
       "      <td>0.0</td>\n",
       "      <td>0.0</td>\n",
       "      <td>NaN</td>\n",
       "      <td>168828.0</td>\n",
       "    </tr>\n",
       "    <tr>\n",
       "      <th>111</th>\n",
       "      <td>2.5</td>\n",
       "      <td>3.0</td>\n",
       "      <td>904.0</td>\n",
       "      <td>6059.0</td>\n",
       "      <td>NaN</td>\n",
       "      <td>18719.0</td>\n",
       "      <td>1.0</td>\n",
       "      <td>7.0</td>\n",
       "      <td>1948.0</td>\n",
       "      <td>162456.0</td>\n",
       "    </tr>\n",
       "    <tr>\n",
       "      <th>209</th>\n",
       "      <td>0.0</td>\n",
       "      <td>0.0</td>\n",
       "      <td>2276.0</td>\n",
       "      <td>6037.0</td>\n",
       "      <td>NaN</td>\n",
       "      <td>10772.0</td>\n",
       "      <td>0.0</td>\n",
       "      <td>0.0</td>\n",
       "      <td>NaN</td>\n",
       "      <td>101792.0</td>\n",
       "    </tr>\n",
       "    <tr>\n",
       "      <th>280</th>\n",
       "      <td>0.0</td>\n",
       "      <td>0.0</td>\n",
       "      <td>NaN</td>\n",
       "      <td>6059.0</td>\n",
       "      <td>NaN</td>\n",
       "      <td>105970.0</td>\n",
       "      <td>0.0</td>\n",
       "      <td>0.0</td>\n",
       "      <td>NaN</td>\n",
       "      <td>2493444.0</td>\n",
       "    </tr>\n",
       "    <tr>\n",
       "      <th>293</th>\n",
       "      <td>0.0</td>\n",
       "      <td>0.0</td>\n",
       "      <td>400.0</td>\n",
       "      <td>6037.0</td>\n",
       "      <td>NaN</td>\n",
       "      <td>55016.0</td>\n",
       "      <td>0.0</td>\n",
       "      <td>0.0</td>\n",
       "      <td>1950.0</td>\n",
       "      <td>49627.0</td>\n",
       "    </tr>\n",
       "    <tr>\n",
       "      <th>746</th>\n",
       "      <td>0.0</td>\n",
       "      <td>0.0</td>\n",
       "      <td>389.0</td>\n",
       "      <td>6037.0</td>\n",
       "      <td>NaN</td>\n",
       "      <td>7681.0</td>\n",
       "      <td>0.0</td>\n",
       "      <td>0.0</td>\n",
       "      <td>NaN</td>\n",
       "      <td>319396.0</td>\n",
       "    </tr>\n",
       "    <tr>\n",
       "      <th>920</th>\n",
       "      <td>0.0</td>\n",
       "      <td>0.0</td>\n",
       "      <td>NaN</td>\n",
       "      <td>6059.0</td>\n",
       "      <td>NaN</td>\n",
       "      <td>13329.0</td>\n",
       "      <td>0.0</td>\n",
       "      <td>0.0</td>\n",
       "      <td>NaN</td>\n",
       "      <td>270009.0</td>\n",
       "    </tr>\n",
       "    <tr>\n",
       "      <th>921</th>\n",
       "      <td>0.0</td>\n",
       "      <td>0.0</td>\n",
       "      <td>NaN</td>\n",
       "      <td>6059.0</td>\n",
       "      <td>NaN</td>\n",
       "      <td>20457.0</td>\n",
       "      <td>0.0</td>\n",
       "      <td>0.0</td>\n",
       "      <td>NaN</td>\n",
       "      <td>7074075.0</td>\n",
       "    </tr>\n",
       "    <tr>\n",
       "      <th>940</th>\n",
       "      <td>0.0</td>\n",
       "      <td>0.0</td>\n",
       "      <td>NaN</td>\n",
       "      <td>6037.0</td>\n",
       "      <td>NaN</td>\n",
       "      <td>30346.0</td>\n",
       "      <td>0.0</td>\n",
       "      <td>0.0</td>\n",
       "      <td>NaN</td>\n",
       "      <td>5461875.0</td>\n",
       "    </tr>\n",
       "    <tr>\n",
       "      <th>1741</th>\n",
       "      <td>0.0</td>\n",
       "      <td>0.0</td>\n",
       "      <td>4184.0</td>\n",
       "      <td>6059.0</td>\n",
       "      <td>NaN</td>\n",
       "      <td>96141.0</td>\n",
       "      <td>0.0</td>\n",
       "      <td>0.0</td>\n",
       "      <td>1964.0</td>\n",
       "      <td>1145602.0</td>\n",
       "    </tr>\n",
       "    <tr>\n",
       "      <th>2629</th>\n",
       "      <td>0.0</td>\n",
       "      <td>0.0</td>\n",
       "      <td>NaN</td>\n",
       "      <td>6037.0</td>\n",
       "      <td>NaN</td>\n",
       "      <td>10495.0</td>\n",
       "      <td>0.0</td>\n",
       "      <td>0.0</td>\n",
       "      <td>NaN</td>\n",
       "      <td>225126.0</td>\n",
       "    </tr>\n",
       "    <tr>\n",
       "      <th>2808</th>\n",
       "      <td>0.0</td>\n",
       "      <td>4.0</td>\n",
       "      <td>2945.0</td>\n",
       "      <td>6111.0</td>\n",
       "      <td>NaN</td>\n",
       "      <td>29631.0</td>\n",
       "      <td>1.0</td>\n",
       "      <td>8.0</td>\n",
       "      <td>1973.0</td>\n",
       "      <td>167510.0</td>\n",
       "    </tr>\n",
       "    <tr>\n",
       "      <th>3656</th>\n",
       "      <td>0.0</td>\n",
       "      <td>0.0</td>\n",
       "      <td>682.0</td>\n",
       "      <td>6037.0</td>\n",
       "      <td>NaN</td>\n",
       "      <td>4559.0</td>\n",
       "      <td>0.0</td>\n",
       "      <td>0.0</td>\n",
       "      <td>1972.0</td>\n",
       "      <td>29361.0</td>\n",
       "    </tr>\n",
       "    <tr>\n",
       "      <th>4096</th>\n",
       "      <td>0.0</td>\n",
       "      <td>0.0</td>\n",
       "      <td>NaN</td>\n",
       "      <td>6111.0</td>\n",
       "      <td>NaN</td>\n",
       "      <td>907790.0</td>\n",
       "      <td>0.0</td>\n",
       "      <td>0.0</td>\n",
       "      <td>NaN</td>\n",
       "      <td>3210155.0</td>\n",
       "    </tr>\n",
       "    <tr>\n",
       "      <th>4220</th>\n",
       "      <td>1.5</td>\n",
       "      <td>2.0</td>\n",
       "      <td>1184.0</td>\n",
       "      <td>6059.0</td>\n",
       "      <td>NaN</td>\n",
       "      <td>8205.0</td>\n",
       "      <td>0.0</td>\n",
       "      <td>5.0</td>\n",
       "      <td>1925.0</td>\n",
       "      <td>236262.0</td>\n",
       "    </tr>\n",
       "    <tr>\n",
       "      <th>4879</th>\n",
       "      <td>0.0</td>\n",
       "      <td>0.0</td>\n",
       "      <td>1064.0</td>\n",
       "      <td>6037.0</td>\n",
       "      <td>NaN</td>\n",
       "      <td>1993.0</td>\n",
       "      <td>0.0</td>\n",
       "      <td>0.0</td>\n",
       "      <td>1911.0</td>\n",
       "      <td>226328.0</td>\n",
       "    </tr>\n",
       "    <tr>\n",
       "      <th>5553</th>\n",
       "      <td>0.0</td>\n",
       "      <td>0.0</td>\n",
       "      <td>NaN</td>\n",
       "      <td>6059.0</td>\n",
       "      <td>NaN</td>\n",
       "      <td>11010.0</td>\n",
       "      <td>0.0</td>\n",
       "      <td>0.0</td>\n",
       "      <td>NaN</td>\n",
       "      <td>5126781.0</td>\n",
       "    </tr>\n",
       "    <tr>\n",
       "      <th>6018</th>\n",
       "      <td>2.5</td>\n",
       "      <td>3.0</td>\n",
       "      <td>1804.0</td>\n",
       "      <td>6059.0</td>\n",
       "      <td>NaN</td>\n",
       "      <td>18637.0</td>\n",
       "      <td>0.0</td>\n",
       "      <td>6.0</td>\n",
       "      <td>1952.0</td>\n",
       "      <td>735000.0</td>\n",
       "    </tr>\n",
       "    <tr>\n",
       "      <th>6172</th>\n",
       "      <td>0.0</td>\n",
       "      <td>0.0</td>\n",
       "      <td>660.0</td>\n",
       "      <td>6037.0</td>\n",
       "      <td>NaN</td>\n",
       "      <td>24698.0</td>\n",
       "      <td>1.0</td>\n",
       "      <td>0.0</td>\n",
       "      <td>1928.0</td>\n",
       "      <td>746757.0</td>\n",
       "    </tr>\n",
       "    <tr>\n",
       "      <th>6545</th>\n",
       "      <td>0.0</td>\n",
       "      <td>0.0</td>\n",
       "      <td>738.0</td>\n",
       "      <td>6037.0</td>\n",
       "      <td>NaN</td>\n",
       "      <td>7000.0</td>\n",
       "      <td>1.0</td>\n",
       "      <td>0.0</td>\n",
       "      <td>1942.0</td>\n",
       "      <td>84701.0</td>\n",
       "    </tr>\n",
       "    <tr>\n",
       "      <th>6585</th>\n",
       "      <td>0.0</td>\n",
       "      <td>0.0</td>\n",
       "      <td>NaN</td>\n",
       "      <td>6111.0</td>\n",
       "      <td>NaN</td>\n",
       "      <td>12083.0</td>\n",
       "      <td>0.0</td>\n",
       "      <td>2.0</td>\n",
       "      <td>NaN</td>\n",
       "      <td>26237.0</td>\n",
       "    </tr>\n",
       "    <tr>\n",
       "      <th>6942</th>\n",
       "      <td>0.0</td>\n",
       "      <td>0.0</td>\n",
       "      <td>NaN</td>\n",
       "      <td>6037.0</td>\n",
       "      <td>NaN</td>\n",
       "      <td>NaN</td>\n",
       "      <td>0.0</td>\n",
       "      <td>0.0</td>\n",
       "      <td>NaN</td>\n",
       "      <td>1842678.0</td>\n",
       "    </tr>\n",
       "    <tr>\n",
       "      <th>8514</th>\n",
       "      <td>0.0</td>\n",
       "      <td>0.0</td>\n",
       "      <td>NaN</td>\n",
       "      <td>6037.0</td>\n",
       "      <td>NaN</td>\n",
       "      <td>2631.0</td>\n",
       "      <td>0.0</td>\n",
       "      <td>0.0</td>\n",
       "      <td>NaN</td>\n",
       "      <td>1289097.0</td>\n",
       "    </tr>\n",
       "    <tr>\n",
       "      <th>8957</th>\n",
       "      <td>0.0</td>\n",
       "      <td>0.0</td>\n",
       "      <td>NaN</td>\n",
       "      <td>6059.0</td>\n",
       "      <td>NaN</td>\n",
       "      <td>101287.0</td>\n",
       "      <td>0.0</td>\n",
       "      <td>0.0</td>\n",
       "      <td>NaN</td>\n",
       "      <td>1558090.0</td>\n",
       "    </tr>\n",
       "    <tr>\n",
       "      <th>9419</th>\n",
       "      <td>0.0</td>\n",
       "      <td>0.0</td>\n",
       "      <td>1820.0</td>\n",
       "      <td>6037.0</td>\n",
       "      <td>NaN</td>\n",
       "      <td>6892.0</td>\n",
       "      <td>0.0</td>\n",
       "      <td>0.0</td>\n",
       "      <td>1939.0</td>\n",
       "      <td>1034512.0</td>\n",
       "    </tr>\n",
       "    <tr>\n",
       "      <th>9603</th>\n",
       "      <td>0.0</td>\n",
       "      <td>0.0</td>\n",
       "      <td>NaN</td>\n",
       "      <td>6037.0</td>\n",
       "      <td>NaN</td>\n",
       "      <td>26369.0</td>\n",
       "      <td>0.0</td>\n",
       "      <td>0.0</td>\n",
       "      <td>1946.0</td>\n",
       "      <td>406100.0</td>\n",
       "    </tr>\n",
       "    <tr>\n",
       "      <th>9797</th>\n",
       "      <td>0.0</td>\n",
       "      <td>0.0</td>\n",
       "      <td>NaN</td>\n",
       "      <td>6059.0</td>\n",
       "      <td>NaN</td>\n",
       "      <td>14359.0</td>\n",
       "      <td>0.0</td>\n",
       "      <td>0.0</td>\n",
       "      <td>NaN</td>\n",
       "      <td>3136161.0</td>\n",
       "    </tr>\n",
       "    <tr>\n",
       "      <th>10964</th>\n",
       "      <td>1.5</td>\n",
       "      <td>5.0</td>\n",
       "      <td>1751.0</td>\n",
       "      <td>6059.0</td>\n",
       "      <td>NaN</td>\n",
       "      <td>9661.0</td>\n",
       "      <td>0.0</td>\n",
       "      <td>9.0</td>\n",
       "      <td>1948.0</td>\n",
       "      <td>635000.0</td>\n",
       "    </tr>\n",
       "    <tr>\n",
       "      <th>11019</th>\n",
       "      <td>0.0</td>\n",
       "      <td>0.0</td>\n",
       "      <td>NaN</td>\n",
       "      <td>6059.0</td>\n",
       "      <td>NaN</td>\n",
       "      <td>7158.0</td>\n",
       "      <td>0.0</td>\n",
       "      <td>0.0</td>\n",
       "      <td>NaN</td>\n",
       "      <td>626497.0</td>\n",
       "    </tr>\n",
       "    <tr>\n",
       "      <th>11249</th>\n",
       "      <td>0.0</td>\n",
       "      <td>0.0</td>\n",
       "      <td>NaN</td>\n",
       "      <td>6059.0</td>\n",
       "      <td>NaN</td>\n",
       "      <td>NaN</td>\n",
       "      <td>0.0</td>\n",
       "      <td>0.0</td>\n",
       "      <td>NaN</td>\n",
       "      <td>1244873.0</td>\n",
       "    </tr>\n",
       "    <tr>\n",
       "      <th>11544</th>\n",
       "      <td>0.0</td>\n",
       "      <td>0.0</td>\n",
       "      <td>NaN</td>\n",
       "      <td>6059.0</td>\n",
       "      <td>NaN</td>\n",
       "      <td>5338.0</td>\n",
       "      <td>0.0</td>\n",
       "      <td>0.0</td>\n",
       "      <td>1957.0</td>\n",
       "      <td>125714.0</td>\n",
       "    </tr>\n",
       "    <tr>\n",
       "      <th>11614</th>\n",
       "      <td>2.5</td>\n",
       "      <td>4.0</td>\n",
       "      <td>2459.0</td>\n",
       "      <td>6059.0</td>\n",
       "      <td>NaN</td>\n",
       "      <td>26325.0</td>\n",
       "      <td>0.0</td>\n",
       "      <td>9.0</td>\n",
       "      <td>1968.0</td>\n",
       "      <td>134264.0</td>\n",
       "    </tr>\n",
       "    <tr>\n",
       "      <th>11848</th>\n",
       "      <td>0.0</td>\n",
       "      <td>0.0</td>\n",
       "      <td>NaN</td>\n",
       "      <td>6059.0</td>\n",
       "      <td>NaN</td>\n",
       "      <td>3482.0</td>\n",
       "      <td>0.0</td>\n",
       "      <td>0.0</td>\n",
       "      <td>NaN</td>\n",
       "      <td>1941143.0</td>\n",
       "    </tr>\n",
       "    <tr>\n",
       "      <th>12134</th>\n",
       "      <td>0.0</td>\n",
       "      <td>0.0</td>\n",
       "      <td>NaN</td>\n",
       "      <td>6059.0</td>\n",
       "      <td>NaN</td>\n",
       "      <td>6595.0</td>\n",
       "      <td>0.0</td>\n",
       "      <td>0.0</td>\n",
       "      <td>NaN</td>\n",
       "      <td>2231097.0</td>\n",
       "    </tr>\n",
       "    <tr>\n",
       "      <th>12305</th>\n",
       "      <td>0.0</td>\n",
       "      <td>0.0</td>\n",
       "      <td>NaN</td>\n",
       "      <td>6059.0</td>\n",
       "      <td>NaN</td>\n",
       "      <td>7056.0</td>\n",
       "      <td>0.0</td>\n",
       "      <td>0.0</td>\n",
       "      <td>NaN</td>\n",
       "      <td>970000.0</td>\n",
       "    </tr>\n",
       "    <tr>\n",
       "      <th>12517</th>\n",
       "      <td>0.0</td>\n",
       "      <td>0.0</td>\n",
       "      <td>NaN</td>\n",
       "      <td>6037.0</td>\n",
       "      <td>NaN</td>\n",
       "      <td>NaN</td>\n",
       "      <td>0.0</td>\n",
       "      <td>0.0</td>\n",
       "      <td>NaN</td>\n",
       "      <td>957014.0</td>\n",
       "    </tr>\n",
       "    <tr>\n",
       "      <th>12756</th>\n",
       "      <td>2.5</td>\n",
       "      <td>3.0</td>\n",
       "      <td>2165.0</td>\n",
       "      <td>6059.0</td>\n",
       "      <td>NaN</td>\n",
       "      <td>8224.0</td>\n",
       "      <td>0.0</td>\n",
       "      <td>7.0</td>\n",
       "      <td>1967.0</td>\n",
       "      <td>665801.0</td>\n",
       "    </tr>\n",
       "    <tr>\n",
       "      <th>12925</th>\n",
       "      <td>0.0</td>\n",
       "      <td>3.0</td>\n",
       "      <td>2684.0</td>\n",
       "      <td>6111.0</td>\n",
       "      <td>NaN</td>\n",
       "      <td>101059.0</td>\n",
       "      <td>0.0</td>\n",
       "      <td>7.0</td>\n",
       "      <td>1964.0</td>\n",
       "      <td>142838.0</td>\n",
       "    </tr>\n",
       "    <tr>\n",
       "      <th>13259</th>\n",
       "      <td>0.0</td>\n",
       "      <td>0.0</td>\n",
       "      <td>NaN</td>\n",
       "      <td>6059.0</td>\n",
       "      <td>NaN</td>\n",
       "      <td>21256.0</td>\n",
       "      <td>0.0</td>\n",
       "      <td>0.0</td>\n",
       "      <td>NaN</td>\n",
       "      <td>1608894.0</td>\n",
       "    </tr>\n",
       "    <tr>\n",
       "      <th>13542</th>\n",
       "      <td>0.0</td>\n",
       "      <td>0.0</td>\n",
       "      <td>366.0</td>\n",
       "      <td>6037.0</td>\n",
       "      <td>NaN</td>\n",
       "      <td>27369.0</td>\n",
       "      <td>0.0</td>\n",
       "      <td>0.0</td>\n",
       "      <td>1952.0</td>\n",
       "      <td>62030.0</td>\n",
       "    </tr>\n",
       "    <tr>\n",
       "      <th>13721</th>\n",
       "      <td>0.0</td>\n",
       "      <td>3.0</td>\n",
       "      <td>1092.0</td>\n",
       "      <td>6111.0</td>\n",
       "      <td>NaN</td>\n",
       "      <td>20909.0</td>\n",
       "      <td>0.0</td>\n",
       "      <td>5.0</td>\n",
       "      <td>1949.0</td>\n",
       "      <td>256787.0</td>\n",
       "    </tr>\n",
       "    <tr>\n",
       "      <th>13791</th>\n",
       "      <td>0.0</td>\n",
       "      <td>0.0</td>\n",
       "      <td>NaN</td>\n",
       "      <td>6037.0</td>\n",
       "      <td>NaN</td>\n",
       "      <td>19837.0</td>\n",
       "      <td>0.0</td>\n",
       "      <td>0.0</td>\n",
       "      <td>NaN</td>\n",
       "      <td>2077940.0</td>\n",
       "    </tr>\n",
       "    <tr>\n",
       "      <th>13829</th>\n",
       "      <td>0.0</td>\n",
       "      <td>0.0</td>\n",
       "      <td>NaN</td>\n",
       "      <td>6037.0</td>\n",
       "      <td>NaN</td>\n",
       "      <td>NaN</td>\n",
       "      <td>0.0</td>\n",
       "      <td>0.0</td>\n",
       "      <td>NaN</td>\n",
       "      <td>900820.0</td>\n",
       "    </tr>\n",
       "    <tr>\n",
       "      <th>14506</th>\n",
       "      <td>0.0</td>\n",
       "      <td>0.0</td>\n",
       "      <td>360.0</td>\n",
       "      <td>6037.0</td>\n",
       "      <td>NaN</td>\n",
       "      <td>2007.0</td>\n",
       "      <td>0.0</td>\n",
       "      <td>0.0</td>\n",
       "      <td>1925.0</td>\n",
       "      <td>11089.0</td>\n",
       "    </tr>\n",
       "    <tr>\n",
       "      <th>14965</th>\n",
       "      <td>0.0</td>\n",
       "      <td>3.0</td>\n",
       "      <td>1760.0</td>\n",
       "      <td>6111.0</td>\n",
       "      <td>NaN</td>\n",
       "      <td>12200.0</td>\n",
       "      <td>0.0</td>\n",
       "      <td>3.0</td>\n",
       "      <td>1963.0</td>\n",
       "      <td>80303.0</td>\n",
       "    </tr>\n",
       "    <tr>\n",
       "      <th>14978</th>\n",
       "      <td>0.0</td>\n",
       "      <td>0.0</td>\n",
       "      <td>NaN</td>\n",
       "      <td>6037.0</td>\n",
       "      <td>NaN</td>\n",
       "      <td>42042.0</td>\n",
       "      <td>0.0</td>\n",
       "      <td>0.0</td>\n",
       "      <td>NaN</td>\n",
       "      <td>177668.0</td>\n",
       "    </tr>\n",
       "  </tbody>\n",
       "</table>\n",
       "</div>"
      ],
      "text/plain": [
       "       bathroom  bedroom    sqft    fips  fullbathcnt   lotsqft  poolcnt  \\\n",
       "5           0.0      0.0  1378.0  6037.0          NaN    7500.0      0.0   \n",
       "111         2.5      3.0   904.0  6059.0          NaN   18719.0      1.0   \n",
       "209         0.0      0.0  2276.0  6037.0          NaN   10772.0      0.0   \n",
       "280         0.0      0.0     NaN  6059.0          NaN  105970.0      0.0   \n",
       "293         0.0      0.0   400.0  6037.0          NaN   55016.0      0.0   \n",
       "746         0.0      0.0   389.0  6037.0          NaN    7681.0      0.0   \n",
       "920         0.0      0.0     NaN  6059.0          NaN   13329.0      0.0   \n",
       "921         0.0      0.0     NaN  6059.0          NaN   20457.0      0.0   \n",
       "940         0.0      0.0     NaN  6037.0          NaN   30346.0      0.0   \n",
       "1741        0.0      0.0  4184.0  6059.0          NaN   96141.0      0.0   \n",
       "2629        0.0      0.0     NaN  6037.0          NaN   10495.0      0.0   \n",
       "2808        0.0      4.0  2945.0  6111.0          NaN   29631.0      1.0   \n",
       "3656        0.0      0.0   682.0  6037.0          NaN    4559.0      0.0   \n",
       "4096        0.0      0.0     NaN  6111.0          NaN  907790.0      0.0   \n",
       "4220        1.5      2.0  1184.0  6059.0          NaN    8205.0      0.0   \n",
       "4879        0.0      0.0  1064.0  6037.0          NaN    1993.0      0.0   \n",
       "5553        0.0      0.0     NaN  6059.0          NaN   11010.0      0.0   \n",
       "6018        2.5      3.0  1804.0  6059.0          NaN   18637.0      0.0   \n",
       "6172        0.0      0.0   660.0  6037.0          NaN   24698.0      1.0   \n",
       "6545        0.0      0.0   738.0  6037.0          NaN    7000.0      1.0   \n",
       "6585        0.0      0.0     NaN  6111.0          NaN   12083.0      0.0   \n",
       "6942        0.0      0.0     NaN  6037.0          NaN       NaN      0.0   \n",
       "8514        0.0      0.0     NaN  6037.0          NaN    2631.0      0.0   \n",
       "8957        0.0      0.0     NaN  6059.0          NaN  101287.0      0.0   \n",
       "9419        0.0      0.0  1820.0  6037.0          NaN    6892.0      0.0   \n",
       "9603        0.0      0.0     NaN  6037.0          NaN   26369.0      0.0   \n",
       "9797        0.0      0.0     NaN  6059.0          NaN   14359.0      0.0   \n",
       "10964       1.5      5.0  1751.0  6059.0          NaN    9661.0      0.0   \n",
       "11019       0.0      0.0     NaN  6059.0          NaN    7158.0      0.0   \n",
       "11249       0.0      0.0     NaN  6059.0          NaN       NaN      0.0   \n",
       "11544       0.0      0.0     NaN  6059.0          NaN    5338.0      0.0   \n",
       "11614       2.5      4.0  2459.0  6059.0          NaN   26325.0      0.0   \n",
       "11848       0.0      0.0     NaN  6059.0          NaN    3482.0      0.0   \n",
       "12134       0.0      0.0     NaN  6059.0          NaN    6595.0      0.0   \n",
       "12305       0.0      0.0     NaN  6059.0          NaN    7056.0      0.0   \n",
       "12517       0.0      0.0     NaN  6037.0          NaN       NaN      0.0   \n",
       "12756       2.5      3.0  2165.0  6059.0          NaN    8224.0      0.0   \n",
       "12925       0.0      3.0  2684.0  6111.0          NaN  101059.0      0.0   \n",
       "13259       0.0      0.0     NaN  6059.0          NaN   21256.0      0.0   \n",
       "13542       0.0      0.0   366.0  6037.0          NaN   27369.0      0.0   \n",
       "13721       0.0      3.0  1092.0  6111.0          NaN   20909.0      0.0   \n",
       "13791       0.0      0.0     NaN  6037.0          NaN   19837.0      0.0   \n",
       "13829       0.0      0.0     NaN  6037.0          NaN       NaN      0.0   \n",
       "14506       0.0      0.0   360.0  6037.0          NaN    2007.0      0.0   \n",
       "14965       0.0      3.0  1760.0  6111.0          NaN   12200.0      0.0   \n",
       "14978       0.0      0.0     NaN  6037.0          NaN   42042.0      0.0   \n",
       "\n",
       "       roomcnt  yearbuilt  propertytaxvalue  \n",
       "5          0.0        NaN          168828.0  \n",
       "111        7.0     1948.0          162456.0  \n",
       "209        0.0        NaN          101792.0  \n",
       "280        0.0        NaN         2493444.0  \n",
       "293        0.0     1950.0           49627.0  \n",
       "746        0.0        NaN          319396.0  \n",
       "920        0.0        NaN          270009.0  \n",
       "921        0.0        NaN         7074075.0  \n",
       "940        0.0        NaN         5461875.0  \n",
       "1741       0.0     1964.0         1145602.0  \n",
       "2629       0.0        NaN          225126.0  \n",
       "2808       8.0     1973.0          167510.0  \n",
       "3656       0.0     1972.0           29361.0  \n",
       "4096       0.0        NaN         3210155.0  \n",
       "4220       5.0     1925.0          236262.0  \n",
       "4879       0.0     1911.0          226328.0  \n",
       "5553       0.0        NaN         5126781.0  \n",
       "6018       6.0     1952.0          735000.0  \n",
       "6172       0.0     1928.0          746757.0  \n",
       "6545       0.0     1942.0           84701.0  \n",
       "6585       2.0        NaN           26237.0  \n",
       "6942       0.0        NaN         1842678.0  \n",
       "8514       0.0        NaN         1289097.0  \n",
       "8957       0.0        NaN         1558090.0  \n",
       "9419       0.0     1939.0         1034512.0  \n",
       "9603       0.0     1946.0          406100.0  \n",
       "9797       0.0        NaN         3136161.0  \n",
       "10964      9.0     1948.0          635000.0  \n",
       "11019      0.0        NaN          626497.0  \n",
       "11249      0.0        NaN         1244873.0  \n",
       "11544      0.0     1957.0          125714.0  \n",
       "11614      9.0     1968.0          134264.0  \n",
       "11848      0.0        NaN         1941143.0  \n",
       "12134      0.0        NaN         2231097.0  \n",
       "12305      0.0        NaN          970000.0  \n",
       "12517      0.0        NaN          957014.0  \n",
       "12756      7.0     1967.0          665801.0  \n",
       "12925      7.0     1964.0          142838.0  \n",
       "13259      0.0        NaN         1608894.0  \n",
       "13542      0.0     1952.0           62030.0  \n",
       "13721      5.0     1949.0          256787.0  \n",
       "13791      0.0        NaN         2077940.0  \n",
       "13829      0.0        NaN          900820.0  \n",
       "14506      0.0     1925.0           11089.0  \n",
       "14965      3.0     1963.0           80303.0  \n",
       "14978      0.0        NaN          177668.0  "
      ]
     },
     "execution_count": 16,
     "metadata": {},
     "output_type": "execute_result"
    }
   ],
   "source": [
    "df[df['fullbathcnt'].isnull()]"
   ]
  },
  {
   "cell_type": "markdown",
   "metadata": {},
   "source": [
    "<div class=\"alert alert-block alert-info\">Because there are only 46 rows where fullbathcnt is null, and these all have their own problems with incomplete data we will be dropping rows where fullbathcnt is null.</div>"
   ]
  },
  {
   "cell_type": "code",
   "execution_count": 17,
   "metadata": {},
   "outputs": [
    {
     "name": "stdout",
     "output_type": "stream",
     "text": [
      "There are now 0 null values in the fullbathcnt column.\n"
     ]
    }
   ],
   "source": [
    "df = df[~df['fullbathcnt'].isna()]\n",
    "print(f\"There are now {df['fullbathcnt'].isna().sum()} null values in the fullbathcnt column.\")"
   ]
  },
  {
   "cell_type": "markdown",
   "metadata": {},
   "source": [
    "<div class=\"alert alert-block alert-info\">While this fixed our issues with fullbathcnt there are still values of zero for bedroom and bathroom count, however there aren't many.</div>"
   ]
  },
  {
   "cell_type": "code",
   "execution_count": 18,
   "metadata": {},
   "outputs": [
    {
     "name": "stdout",
     "output_type": "stream",
     "text": [
      "Total values of zero: 6\n"
     ]
    }
   ],
   "source": [
    "print(f\"Total values of zero: {(df['bedroom'] == 0).sum() + (df['bathroom'] == 0).sum()}\")"
   ]
  },
  {
   "cell_type": "code",
   "execution_count": 19,
   "metadata": {},
   "outputs": [],
   "source": [
    "df = df[df['bedroom'] != 0]"
   ]
  },
  {
   "cell_type": "code",
   "execution_count": 20,
   "metadata": {},
   "outputs": [
    {
     "data": {
      "text/plain": [
       "(14984, 10)"
      ]
     },
     "execution_count": 20,
     "metadata": {},
     "output_type": "execute_result"
    }
   ],
   "source": [
    "df.shape"
   ]
  },
  {
   "cell_type": "code",
   "execution_count": 21,
   "metadata": {},
   "outputs": [
    {
     "name": "stdout",
     "output_type": "stream",
     "text": [
      "<class 'pandas.core.frame.DataFrame'>\n",
      "Int64Index: 14984 entries, 0 to 15035\n",
      "Data columns (total 10 columns):\n",
      " #   Column            Non-Null Count  Dtype  \n",
      "---  ------            --------------  -----  \n",
      " 0   bathroom          14984 non-null  float64\n",
      " 1   bedroom           14984 non-null  float64\n",
      " 2   sqft              14984 non-null  float64\n",
      " 3   fips              14984 non-null  float64\n",
      " 4   fullbathcnt       14984 non-null  float64\n",
      " 5   lotsqft           14887 non-null  float64\n",
      " 6   poolcnt           14984 non-null  float64\n",
      " 7   roomcnt           14984 non-null  float64\n",
      " 8   yearbuilt         14968 non-null  float64\n",
      " 9   propertytaxvalue  14984 non-null  float64\n",
      "dtypes: float64(10)\n",
      "memory usage: 1.3 MB\n"
     ]
    }
   ],
   "source": [
    "df.info()"
   ]
  },
  {
   "cell_type": "markdown",
   "metadata": {},
   "source": [
    "<div class=\"alert alert-block alert-info\">There are still a few missing values to clean up.</div>"
   ]
  },
  {
   "cell_type": "code",
   "execution_count": 22,
   "metadata": {},
   "outputs": [
    {
     "data": {
      "text/html": [
       "<div>\n",
       "<style scoped>\n",
       "    .dataframe tbody tr th:only-of-type {\n",
       "        vertical-align: middle;\n",
       "    }\n",
       "\n",
       "    .dataframe tbody tr th {\n",
       "        vertical-align: top;\n",
       "    }\n",
       "\n",
       "    .dataframe thead th {\n",
       "        text-align: right;\n",
       "    }\n",
       "</style>\n",
       "<table border=\"1\" class=\"dataframe\">\n",
       "  <thead>\n",
       "    <tr style=\"text-align: right;\">\n",
       "      <th></th>\n",
       "      <th>bathroom</th>\n",
       "      <th>bedroom</th>\n",
       "      <th>sqft</th>\n",
       "      <th>fips</th>\n",
       "      <th>fullbathcnt</th>\n",
       "      <th>lotsqft</th>\n",
       "      <th>poolcnt</th>\n",
       "      <th>roomcnt</th>\n",
       "      <th>yearbuilt</th>\n",
       "      <th>propertytaxvalue</th>\n",
       "    </tr>\n",
       "  </thead>\n",
       "  <tbody>\n",
       "    <tr>\n",
       "      <th>340</th>\n",
       "      <td>1.0</td>\n",
       "      <td>1.0</td>\n",
       "      <td>504.0</td>\n",
       "      <td>6059.0</td>\n",
       "      <td>1.0</td>\n",
       "      <td>NaN</td>\n",
       "      <td>0.0</td>\n",
       "      <td>4.0</td>\n",
       "      <td>1964.0</td>\n",
       "      <td>92355.0</td>\n",
       "    </tr>\n",
       "    <tr>\n",
       "      <th>476</th>\n",
       "      <td>1.0</td>\n",
       "      <td>2.0</td>\n",
       "      <td>768.0</td>\n",
       "      <td>6037.0</td>\n",
       "      <td>1.0</td>\n",
       "      <td>NaN</td>\n",
       "      <td>0.0</td>\n",
       "      <td>3.0</td>\n",
       "      <td>1926.0</td>\n",
       "      <td>152289.0</td>\n",
       "    </tr>\n",
       "    <tr>\n",
       "      <th>634</th>\n",
       "      <td>6.0</td>\n",
       "      <td>5.0</td>\n",
       "      <td>4985.0</td>\n",
       "      <td>6037.0</td>\n",
       "      <td>6.0</td>\n",
       "      <td>NaN</td>\n",
       "      <td>0.0</td>\n",
       "      <td>11.0</td>\n",
       "      <td>2010.0</td>\n",
       "      <td>1430519.0</td>\n",
       "    </tr>\n",
       "    <tr>\n",
       "      <th>713</th>\n",
       "      <td>1.0</td>\n",
       "      <td>2.0</td>\n",
       "      <td>1220.0</td>\n",
       "      <td>6037.0</td>\n",
       "      <td>1.0</td>\n",
       "      <td>NaN</td>\n",
       "      <td>0.0</td>\n",
       "      <td>3.0</td>\n",
       "      <td>1910.0</td>\n",
       "      <td>572459.0</td>\n",
       "    </tr>\n",
       "    <tr>\n",
       "      <th>751</th>\n",
       "      <td>2.0</td>\n",
       "      <td>3.0</td>\n",
       "      <td>1202.0</td>\n",
       "      <td>6037.0</td>\n",
       "      <td>2.0</td>\n",
       "      <td>NaN</td>\n",
       "      <td>0.0</td>\n",
       "      <td>5.0</td>\n",
       "      <td>1958.0</td>\n",
       "      <td>593000.0</td>\n",
       "    </tr>\n",
       "    <tr>\n",
       "      <th>...</th>\n",
       "      <td>...</td>\n",
       "      <td>...</td>\n",
       "      <td>...</td>\n",
       "      <td>...</td>\n",
       "      <td>...</td>\n",
       "      <td>...</td>\n",
       "      <td>...</td>\n",
       "      <td>...</td>\n",
       "      <td>...</td>\n",
       "      <td>...</td>\n",
       "    </tr>\n",
       "    <tr>\n",
       "      <th>14650</th>\n",
       "      <td>3.0</td>\n",
       "      <td>3.0</td>\n",
       "      <td>1511.0</td>\n",
       "      <td>6037.0</td>\n",
       "      <td>3.0</td>\n",
       "      <td>NaN</td>\n",
       "      <td>0.0</td>\n",
       "      <td>6.0</td>\n",
       "      <td>2014.0</td>\n",
       "      <td>364982.0</td>\n",
       "    </tr>\n",
       "    <tr>\n",
       "      <th>14679</th>\n",
       "      <td>3.0</td>\n",
       "      <td>3.0</td>\n",
       "      <td>3286.0</td>\n",
       "      <td>6037.0</td>\n",
       "      <td>3.0</td>\n",
       "      <td>NaN</td>\n",
       "      <td>0.0</td>\n",
       "      <td>6.0</td>\n",
       "      <td>2014.0</td>\n",
       "      <td>675141.0</td>\n",
       "    </tr>\n",
       "    <tr>\n",
       "      <th>14827</th>\n",
       "      <td>4.0</td>\n",
       "      <td>4.0</td>\n",
       "      <td>4351.0</td>\n",
       "      <td>6037.0</td>\n",
       "      <td>4.0</td>\n",
       "      <td>NaN</td>\n",
       "      <td>0.0</td>\n",
       "      <td>8.0</td>\n",
       "      <td>2015.0</td>\n",
       "      <td>760745.0</td>\n",
       "    </tr>\n",
       "    <tr>\n",
       "      <th>14831</th>\n",
       "      <td>3.0</td>\n",
       "      <td>4.0</td>\n",
       "      <td>2192.0</td>\n",
       "      <td>6037.0</td>\n",
       "      <td>3.0</td>\n",
       "      <td>NaN</td>\n",
       "      <td>0.0</td>\n",
       "      <td>7.0</td>\n",
       "      <td>2013.0</td>\n",
       "      <td>488252.0</td>\n",
       "    </tr>\n",
       "    <tr>\n",
       "      <th>14838</th>\n",
       "      <td>2.0</td>\n",
       "      <td>2.0</td>\n",
       "      <td>913.0</td>\n",
       "      <td>6037.0</td>\n",
       "      <td>2.0</td>\n",
       "      <td>NaN</td>\n",
       "      <td>0.0</td>\n",
       "      <td>4.0</td>\n",
       "      <td>1987.0</td>\n",
       "      <td>213202.0</td>\n",
       "    </tr>\n",
       "  </tbody>\n",
       "</table>\n",
       "<p>97 rows × 10 columns</p>\n",
       "</div>"
      ],
      "text/plain": [
       "       bathroom  bedroom    sqft    fips  fullbathcnt  lotsqft  poolcnt  \\\n",
       "340         1.0      1.0   504.0  6059.0          1.0      NaN      0.0   \n",
       "476         1.0      2.0   768.0  6037.0          1.0      NaN      0.0   \n",
       "634         6.0      5.0  4985.0  6037.0          6.0      NaN      0.0   \n",
       "713         1.0      2.0  1220.0  6037.0          1.0      NaN      0.0   \n",
       "751         2.0      3.0  1202.0  6037.0          2.0      NaN      0.0   \n",
       "...         ...      ...     ...     ...          ...      ...      ...   \n",
       "14650       3.0      3.0  1511.0  6037.0          3.0      NaN      0.0   \n",
       "14679       3.0      3.0  3286.0  6037.0          3.0      NaN      0.0   \n",
       "14827       4.0      4.0  4351.0  6037.0          4.0      NaN      0.0   \n",
       "14831       3.0      4.0  2192.0  6037.0          3.0      NaN      0.0   \n",
       "14838       2.0      2.0   913.0  6037.0          2.0      NaN      0.0   \n",
       "\n",
       "       roomcnt  yearbuilt  propertytaxvalue  \n",
       "340        4.0     1964.0           92355.0  \n",
       "476        3.0     1926.0          152289.0  \n",
       "634       11.0     2010.0         1430519.0  \n",
       "713        3.0     1910.0          572459.0  \n",
       "751        5.0     1958.0          593000.0  \n",
       "...        ...        ...               ...  \n",
       "14650      6.0     2014.0          364982.0  \n",
       "14679      6.0     2014.0          675141.0  \n",
       "14827      8.0     2015.0          760745.0  \n",
       "14831      7.0     2013.0          488252.0  \n",
       "14838      4.0     1987.0          213202.0  \n",
       "\n",
       "[97 rows x 10 columns]"
      ]
     },
     "execution_count": 22,
     "metadata": {},
     "output_type": "execute_result"
    }
   ],
   "source": [
    "df[df['lotsqft'].isnull()]"
   ]
  },
  {
   "cell_type": "markdown",
   "metadata": {},
   "source": [
    "<div class=\"alert alert-block alert-info\">There are 97 rows with a null value in this column. Because it is so few compared to the total data set and there isn't an easy way to estimate the lot square footage we decided to drop these rows.</div>"
   ]
  },
  {
   "cell_type": "code",
   "execution_count": 23,
   "metadata": {},
   "outputs": [],
   "source": [
    "df = df[~df['lotsqft'].isna()]"
   ]
  },
  {
   "cell_type": "code",
   "execution_count": 24,
   "metadata": {},
   "outputs": [
    {
     "name": "stdout",
     "output_type": "stream",
     "text": [
      "<class 'pandas.core.frame.DataFrame'>\n",
      "Int64Index: 14887 entries, 0 to 15035\n",
      "Data columns (total 10 columns):\n",
      " #   Column            Non-Null Count  Dtype  \n",
      "---  ------            --------------  -----  \n",
      " 0   bathroom          14887 non-null  float64\n",
      " 1   bedroom           14887 non-null  float64\n",
      " 2   sqft              14887 non-null  float64\n",
      " 3   fips              14887 non-null  float64\n",
      " 4   fullbathcnt       14887 non-null  float64\n",
      " 5   lotsqft           14887 non-null  float64\n",
      " 6   poolcnt           14887 non-null  float64\n",
      " 7   roomcnt           14887 non-null  float64\n",
      " 8   yearbuilt         14871 non-null  float64\n",
      " 9   propertytaxvalue  14887 non-null  float64\n",
      "dtypes: float64(10)\n",
      "memory usage: 1.2 MB\n"
     ]
    }
   ],
   "source": [
    "df.info()"
   ]
  },
  {
   "cell_type": "code",
   "execution_count": 25,
   "metadata": {},
   "outputs": [
    {
     "data": {
      "text/html": [
       "<div>\n",
       "<style scoped>\n",
       "    .dataframe tbody tr th:only-of-type {\n",
       "        vertical-align: middle;\n",
       "    }\n",
       "\n",
       "    .dataframe tbody tr th {\n",
       "        vertical-align: top;\n",
       "    }\n",
       "\n",
       "    .dataframe thead th {\n",
       "        text-align: right;\n",
       "    }\n",
       "</style>\n",
       "<table border=\"1\" class=\"dataframe\">\n",
       "  <thead>\n",
       "    <tr style=\"text-align: right;\">\n",
       "      <th></th>\n",
       "      <th>bathroom</th>\n",
       "      <th>bedroom</th>\n",
       "      <th>sqft</th>\n",
       "      <th>fips</th>\n",
       "      <th>fullbathcnt</th>\n",
       "      <th>lotsqft</th>\n",
       "      <th>poolcnt</th>\n",
       "      <th>roomcnt</th>\n",
       "      <th>yearbuilt</th>\n",
       "      <th>propertytaxvalue</th>\n",
       "    </tr>\n",
       "  </thead>\n",
       "  <tbody>\n",
       "    <tr>\n",
       "      <th>3991</th>\n",
       "      <td>1.0</td>\n",
       "      <td>2.0</td>\n",
       "      <td>736.0</td>\n",
       "      <td>6037.0</td>\n",
       "      <td>1.0</td>\n",
       "      <td>3709.0</td>\n",
       "      <td>0.0</td>\n",
       "      <td>3.0</td>\n",
       "      <td>NaN</td>\n",
       "      <td>21283.0</td>\n",
       "    </tr>\n",
       "    <tr>\n",
       "      <th>4490</th>\n",
       "      <td>3.0</td>\n",
       "      <td>3.0</td>\n",
       "      <td>1310.0</td>\n",
       "      <td>6037.0</td>\n",
       "      <td>3.0</td>\n",
       "      <td>5458.0</td>\n",
       "      <td>0.0</td>\n",
       "      <td>6.0</td>\n",
       "      <td>NaN</td>\n",
       "      <td>319000.0</td>\n",
       "    </tr>\n",
       "    <tr>\n",
       "      <th>4981</th>\n",
       "      <td>3.0</td>\n",
       "      <td>5.0</td>\n",
       "      <td>3800.0</td>\n",
       "      <td>6111.0</td>\n",
       "      <td>3.0</td>\n",
       "      <td>48787.0</td>\n",
       "      <td>1.0</td>\n",
       "      <td>11.0</td>\n",
       "      <td>NaN</td>\n",
       "      <td>605142.0</td>\n",
       "    </tr>\n",
       "    <tr>\n",
       "      <th>5756</th>\n",
       "      <td>4.5</td>\n",
       "      <td>6.0</td>\n",
       "      <td>4103.0</td>\n",
       "      <td>6111.0</td>\n",
       "      <td>4.0</td>\n",
       "      <td>15888.0</td>\n",
       "      <td>1.0</td>\n",
       "      <td>11.0</td>\n",
       "      <td>NaN</td>\n",
       "      <td>939970.0</td>\n",
       "    </tr>\n",
       "    <tr>\n",
       "      <th>7004</th>\n",
       "      <td>2.0</td>\n",
       "      <td>3.0</td>\n",
       "      <td>1163.0</td>\n",
       "      <td>6111.0</td>\n",
       "      <td>2.0</td>\n",
       "      <td>4074.0</td>\n",
       "      <td>0.0</td>\n",
       "      <td>5.0</td>\n",
       "      <td>NaN</td>\n",
       "      <td>317286.0</td>\n",
       "    </tr>\n",
       "    <tr>\n",
       "      <th>7051</th>\n",
       "      <td>2.5</td>\n",
       "      <td>3.0</td>\n",
       "      <td>2764.0</td>\n",
       "      <td>6111.0</td>\n",
       "      <td>2.0</td>\n",
       "      <td>15492.0</td>\n",
       "      <td>1.0</td>\n",
       "      <td>6.0</td>\n",
       "      <td>NaN</td>\n",
       "      <td>549573.0</td>\n",
       "    </tr>\n",
       "    <tr>\n",
       "      <th>7386</th>\n",
       "      <td>2.5</td>\n",
       "      <td>3.0</td>\n",
       "      <td>2516.0</td>\n",
       "      <td>6111.0</td>\n",
       "      <td>2.0</td>\n",
       "      <td>20000.0</td>\n",
       "      <td>1.0</td>\n",
       "      <td>7.0</td>\n",
       "      <td>NaN</td>\n",
       "      <td>204638.0</td>\n",
       "    </tr>\n",
       "    <tr>\n",
       "      <th>8563</th>\n",
       "      <td>3.5</td>\n",
       "      <td>4.0</td>\n",
       "      <td>3574.0</td>\n",
       "      <td>6111.0</td>\n",
       "      <td>3.0</td>\n",
       "      <td>9630.0</td>\n",
       "      <td>0.0</td>\n",
       "      <td>6.0</td>\n",
       "      <td>NaN</td>\n",
       "      <td>582991.0</td>\n",
       "    </tr>\n",
       "    <tr>\n",
       "      <th>8800</th>\n",
       "      <td>3.0</td>\n",
       "      <td>3.0</td>\n",
       "      <td>1964.0</td>\n",
       "      <td>6037.0</td>\n",
       "      <td>3.0</td>\n",
       "      <td>4298.0</td>\n",
       "      <td>0.0</td>\n",
       "      <td>6.0</td>\n",
       "      <td>NaN</td>\n",
       "      <td>573616.0</td>\n",
       "    </tr>\n",
       "    <tr>\n",
       "      <th>8852</th>\n",
       "      <td>1.0</td>\n",
       "      <td>1.0</td>\n",
       "      <td>711.0</td>\n",
       "      <td>6111.0</td>\n",
       "      <td>1.0</td>\n",
       "      <td>3600.0</td>\n",
       "      <td>0.0</td>\n",
       "      <td>3.0</td>\n",
       "      <td>NaN</td>\n",
       "      <td>108709.0</td>\n",
       "    </tr>\n",
       "    <tr>\n",
       "      <th>8977</th>\n",
       "      <td>1.0</td>\n",
       "      <td>1.0</td>\n",
       "      <td>1064.0</td>\n",
       "      <td>6111.0</td>\n",
       "      <td>1.0</td>\n",
       "      <td>67082.0</td>\n",
       "      <td>0.0</td>\n",
       "      <td>3.0</td>\n",
       "      <td>NaN</td>\n",
       "      <td>320157.0</td>\n",
       "    </tr>\n",
       "    <tr>\n",
       "      <th>10326</th>\n",
       "      <td>4.5</td>\n",
       "      <td>4.0</td>\n",
       "      <td>3060.0</td>\n",
       "      <td>6111.0</td>\n",
       "      <td>4.0</td>\n",
       "      <td>10218.0</td>\n",
       "      <td>0.0</td>\n",
       "      <td>7.0</td>\n",
       "      <td>NaN</td>\n",
       "      <td>464991.0</td>\n",
       "    </tr>\n",
       "    <tr>\n",
       "      <th>11946</th>\n",
       "      <td>4.5</td>\n",
       "      <td>5.0</td>\n",
       "      <td>6060.0</td>\n",
       "      <td>6111.0</td>\n",
       "      <td>4.0</td>\n",
       "      <td>75358.0</td>\n",
       "      <td>1.0</td>\n",
       "      <td>11.0</td>\n",
       "      <td>NaN</td>\n",
       "      <td>1274256.0</td>\n",
       "    </tr>\n",
       "    <tr>\n",
       "      <th>12379</th>\n",
       "      <td>1.0</td>\n",
       "      <td>2.0</td>\n",
       "      <td>1188.0</td>\n",
       "      <td>6111.0</td>\n",
       "      <td>1.0</td>\n",
       "      <td>81021.0</td>\n",
       "      <td>0.0</td>\n",
       "      <td>4.0</td>\n",
       "      <td>NaN</td>\n",
       "      <td>354874.0</td>\n",
       "    </tr>\n",
       "    <tr>\n",
       "      <th>14357</th>\n",
       "      <td>1.0</td>\n",
       "      <td>1.0</td>\n",
       "      <td>972.0</td>\n",
       "      <td>6037.0</td>\n",
       "      <td>1.0</td>\n",
       "      <td>92589.0</td>\n",
       "      <td>0.0</td>\n",
       "      <td>2.0</td>\n",
       "      <td>NaN</td>\n",
       "      <td>38000.0</td>\n",
       "    </tr>\n",
       "    <tr>\n",
       "      <th>14374</th>\n",
       "      <td>3.0</td>\n",
       "      <td>3.0</td>\n",
       "      <td>3094.0</td>\n",
       "      <td>6111.0</td>\n",
       "      <td>3.0</td>\n",
       "      <td>35900.0</td>\n",
       "      <td>1.0</td>\n",
       "      <td>7.0</td>\n",
       "      <td>NaN</td>\n",
       "      <td>584252.0</td>\n",
       "    </tr>\n",
       "  </tbody>\n",
       "</table>\n",
       "</div>"
      ],
      "text/plain": [
       "       bathroom  bedroom    sqft    fips  fullbathcnt  lotsqft  poolcnt  \\\n",
       "3991        1.0      2.0   736.0  6037.0          1.0   3709.0      0.0   \n",
       "4490        3.0      3.0  1310.0  6037.0          3.0   5458.0      0.0   \n",
       "4981        3.0      5.0  3800.0  6111.0          3.0  48787.0      1.0   \n",
       "5756        4.5      6.0  4103.0  6111.0          4.0  15888.0      1.0   \n",
       "7004        2.0      3.0  1163.0  6111.0          2.0   4074.0      0.0   \n",
       "7051        2.5      3.0  2764.0  6111.0          2.0  15492.0      1.0   \n",
       "7386        2.5      3.0  2516.0  6111.0          2.0  20000.0      1.0   \n",
       "8563        3.5      4.0  3574.0  6111.0          3.0   9630.0      0.0   \n",
       "8800        3.0      3.0  1964.0  6037.0          3.0   4298.0      0.0   \n",
       "8852        1.0      1.0   711.0  6111.0          1.0   3600.0      0.0   \n",
       "8977        1.0      1.0  1064.0  6111.0          1.0  67082.0      0.0   \n",
       "10326       4.5      4.0  3060.0  6111.0          4.0  10218.0      0.0   \n",
       "11946       4.5      5.0  6060.0  6111.0          4.0  75358.0      1.0   \n",
       "12379       1.0      2.0  1188.0  6111.0          1.0  81021.0      0.0   \n",
       "14357       1.0      1.0   972.0  6037.0          1.0  92589.0      0.0   \n",
       "14374       3.0      3.0  3094.0  6111.0          3.0  35900.0      1.0   \n",
       "\n",
       "       roomcnt  yearbuilt  propertytaxvalue  \n",
       "3991       3.0        NaN           21283.0  \n",
       "4490       6.0        NaN          319000.0  \n",
       "4981      11.0        NaN          605142.0  \n",
       "5756      11.0        NaN          939970.0  \n",
       "7004       5.0        NaN          317286.0  \n",
       "7051       6.0        NaN          549573.0  \n",
       "7386       7.0        NaN          204638.0  \n",
       "8563       6.0        NaN          582991.0  \n",
       "8800       6.0        NaN          573616.0  \n",
       "8852       3.0        NaN          108709.0  \n",
       "8977       3.0        NaN          320157.0  \n",
       "10326      7.0        NaN          464991.0  \n",
       "11946     11.0        NaN         1274256.0  \n",
       "12379      4.0        NaN          354874.0  \n",
       "14357      2.0        NaN           38000.0  \n",
       "14374      7.0        NaN          584252.0  "
      ]
     },
     "execution_count": 25,
     "metadata": {},
     "output_type": "execute_result"
    }
   ],
   "source": [
    "df[df['yearbuilt'].isnull()]"
   ]
  },
  {
   "cell_type": "markdown",
   "metadata": {},
   "source": [
    "<div class=\"alert alert-block alert-info\">Similar to the last feature we will be dropping these 16 rows for the same reasons as above.</div>"
   ]
  },
  {
   "cell_type": "code",
   "execution_count": 26,
   "metadata": {},
   "outputs": [
    {
     "data": {
      "text/plain": [
       "(14871, 10)"
      ]
     },
     "execution_count": 26,
     "metadata": {},
     "output_type": "execute_result"
    }
   ],
   "source": [
    "df = df[~df['yearbuilt'].isna()]\n",
    "df.shape"
   ]
  },
  {
   "cell_type": "markdown",
   "metadata": {},
   "source": [
    "<div class=\"alert alert-block alert-info\">After dropping features and taking care of nulls we are left with 14,871 rows and 10 columns of data. Now we will split the data and scale it.</div>"
   ]
  },
  {
   "cell_type": "code",
   "execution_count": 27,
   "metadata": {},
   "outputs": [],
   "source": [
    "df = prep_zillow_final()\n",
    "train, validate, test = zillow_split(df)"
   ]
  },
  {
   "cell_type": "code",
   "execution_count": 28,
   "metadata": {},
   "outputs": [],
   "source": [
    "# These are the columns we will be scaling.\n",
    "columns_to_scale = ['bathroom', 'bedroom', 'sqft', 'lotsqft', 'fullbathcnt', 'roomcnt']"
   ]
  },
  {
   "cell_type": "code",
   "execution_count": 29,
   "metadata": {},
   "outputs": [],
   "source": [
    "train, validate, test = add_scaled_columns(train, validate, test, columns_to_scale)"
   ]
  },
  {
   "cell_type": "code",
   "execution_count": 30,
   "metadata": {},
   "outputs": [
    {
     "data": {
      "text/html": [
       "<div>\n",
       "<style scoped>\n",
       "    .dataframe tbody tr th:only-of-type {\n",
       "        vertical-align: middle;\n",
       "    }\n",
       "\n",
       "    .dataframe tbody tr th {\n",
       "        vertical-align: top;\n",
       "    }\n",
       "\n",
       "    .dataframe thead th {\n",
       "        text-align: right;\n",
       "    }\n",
       "</style>\n",
       "<table border=\"1\" class=\"dataframe\">\n",
       "  <thead>\n",
       "    <tr style=\"text-align: right;\">\n",
       "      <th></th>\n",
       "      <th>bathroom</th>\n",
       "      <th>bedroom</th>\n",
       "      <th>sqft</th>\n",
       "      <th>fips</th>\n",
       "      <th>fullbathcnt</th>\n",
       "      <th>lotsqft</th>\n",
       "      <th>poolcnt</th>\n",
       "      <th>roomcnt</th>\n",
       "      <th>yearbuilt</th>\n",
       "      <th>propertytaxvalue</th>\n",
       "      <th>bathroom_scaled</th>\n",
       "      <th>bedroom_scaled</th>\n",
       "      <th>sqft_scaled</th>\n",
       "      <th>lotsqft_scaled</th>\n",
       "      <th>fullbathcnt_scaled</th>\n",
       "      <th>roomcnt_scaled</th>\n",
       "    </tr>\n",
       "  </thead>\n",
       "  <tbody>\n",
       "    <tr>\n",
       "      <th>12272</th>\n",
       "      <td>1.0</td>\n",
       "      <td>2.0</td>\n",
       "      <td>1060.0</td>\n",
       "      <td>6037.0</td>\n",
       "      <td>1.0</td>\n",
       "      <td>4795.0</td>\n",
       "      <td>0.0</td>\n",
       "      <td>3.0</td>\n",
       "      <td>1935.0</td>\n",
       "      <td>196289.0</td>\n",
       "      <td>0.0000</td>\n",
       "      <td>0.1</td>\n",
       "      <td>0.050165</td>\n",
       "      <td>0.003175</td>\n",
       "      <td>0.000</td>\n",
       "      <td>0.133333</td>\n",
       "    </tr>\n",
       "    <tr>\n",
       "      <th>13496</th>\n",
       "      <td>3.0</td>\n",
       "      <td>5.0</td>\n",
       "      <td>2115.0</td>\n",
       "      <td>6037.0</td>\n",
       "      <td>3.0</td>\n",
       "      <td>5866.0</td>\n",
       "      <td>1.0</td>\n",
       "      <td>8.0</td>\n",
       "      <td>1989.0</td>\n",
       "      <td>440315.0</td>\n",
       "      <td>0.2500</td>\n",
       "      <td>0.4</td>\n",
       "      <td>0.119802</td>\n",
       "      <td>0.003984</td>\n",
       "      <td>0.250</td>\n",
       "      <td>0.466667</td>\n",
       "    </tr>\n",
       "    <tr>\n",
       "      <th>14068</th>\n",
       "      <td>3.0</td>\n",
       "      <td>5.0</td>\n",
       "      <td>2186.0</td>\n",
       "      <td>6037.0</td>\n",
       "      <td>3.0</td>\n",
       "      <td>5109.0</td>\n",
       "      <td>1.0</td>\n",
       "      <td>8.0</td>\n",
       "      <td>1952.0</td>\n",
       "      <td>1120188.0</td>\n",
       "      <td>0.2500</td>\n",
       "      <td>0.4</td>\n",
       "      <td>0.124488</td>\n",
       "      <td>0.003412</td>\n",
       "      <td>0.250</td>\n",
       "      <td>0.466667</td>\n",
       "    </tr>\n",
       "    <tr>\n",
       "      <th>9126</th>\n",
       "      <td>2.0</td>\n",
       "      <td>3.0</td>\n",
       "      <td>1720.0</td>\n",
       "      <td>6037.0</td>\n",
       "      <td>2.0</td>\n",
       "      <td>10118.0</td>\n",
       "      <td>0.0</td>\n",
       "      <td>5.0</td>\n",
       "      <td>1956.0</td>\n",
       "      <td>81697.0</td>\n",
       "      <td>0.1250</td>\n",
       "      <td>0.2</td>\n",
       "      <td>0.093729</td>\n",
       "      <td>0.007198</td>\n",
       "      <td>0.125</td>\n",
       "      <td>0.266667</td>\n",
       "    </tr>\n",
       "    <tr>\n",
       "      <th>4840</th>\n",
       "      <td>2.5</td>\n",
       "      <td>4.0</td>\n",
       "      <td>2494.0</td>\n",
       "      <td>6059.0</td>\n",
       "      <td>2.0</td>\n",
       "      <td>6200.0</td>\n",
       "      <td>0.0</td>\n",
       "      <td>9.0</td>\n",
       "      <td>1966.0</td>\n",
       "      <td>113621.0</td>\n",
       "      <td>0.1875</td>\n",
       "      <td>0.3</td>\n",
       "      <td>0.144818</td>\n",
       "      <td>0.004237</td>\n",
       "      <td>0.125</td>\n",
       "      <td>0.533333</td>\n",
       "    </tr>\n",
       "  </tbody>\n",
       "</table>\n",
       "</div>"
      ],
      "text/plain": [
       "       bathroom  bedroom    sqft    fips  fullbathcnt  lotsqft  poolcnt  \\\n",
       "12272       1.0      2.0  1060.0  6037.0          1.0   4795.0      0.0   \n",
       "13496       3.0      5.0  2115.0  6037.0          3.0   5866.0      1.0   \n",
       "14068       3.0      5.0  2186.0  6037.0          3.0   5109.0      1.0   \n",
       "9126        2.0      3.0  1720.0  6037.0          2.0  10118.0      0.0   \n",
       "4840        2.5      4.0  2494.0  6059.0          2.0   6200.0      0.0   \n",
       "\n",
       "       roomcnt  yearbuilt  propertytaxvalue  bathroom_scaled  bedroom_scaled  \\\n",
       "12272      3.0     1935.0          196289.0           0.0000             0.1   \n",
       "13496      8.0     1989.0          440315.0           0.2500             0.4   \n",
       "14068      8.0     1952.0         1120188.0           0.2500             0.4   \n",
       "9126       5.0     1956.0           81697.0           0.1250             0.2   \n",
       "4840       9.0     1966.0          113621.0           0.1875             0.3   \n",
       "\n",
       "       sqft_scaled  lotsqft_scaled  fullbathcnt_scaled  roomcnt_scaled  \n",
       "12272     0.050165        0.003175               0.000        0.133333  \n",
       "13496     0.119802        0.003984               0.250        0.466667  \n",
       "14068     0.124488        0.003412               0.250        0.466667  \n",
       "9126      0.093729        0.007198               0.125        0.266667  \n",
       "4840      0.144818        0.004237               0.125        0.533333  "
      ]
     },
     "execution_count": 30,
     "metadata": {},
     "output_type": "execute_result"
    }
   ],
   "source": [
    "train.head()"
   ]
  },
  {
   "cell_type": "markdown",
   "metadata": {},
   "source": [
    "## Data Exploration\n",
    "- Run a T-test and a Correlation test on our data\n",
    "- Create a few visualization to summarize the data"
   ]
  },
  {
   "cell_type": "markdown",
   "metadata": {},
   "source": [
    "### Is tax value independent from the amount of bedrooms?\n",
    "\n",
    "##### Hypothesis 1:\n",
    "\n",
    "$H_0$: Tax value and the amount of bedrooms are **independent**\n",
    "\n",
    "$H_a$: Tax value and the amount of bedrooms are **dependent**"
   ]
  },
  {
   "cell_type": "markdown",
   "metadata": {},
   "source": [
    "##### Assigning test variables"
   ]
  },
  {
   "cell_type": "code",
   "execution_count": 31,
   "metadata": {},
   "outputs": [],
   "source": [
    "x = train.bedroom\n",
    "y = train.propertytaxvalue"
   ]
  },
  {
   "cell_type": "markdown",
   "metadata": {},
   "source": [
    "##### Setting Alpha"
   ]
  },
  {
   "cell_type": "code",
   "execution_count": 32,
   "metadata": {},
   "outputs": [],
   "source": [
    "alpha = .05"
   ]
  },
  {
   "cell_type": "markdown",
   "metadata": {},
   "source": [
    "##### Running Correlation Test"
   ]
  },
  {
   "cell_type": "code",
   "execution_count": 33,
   "metadata": {},
   "outputs": [
    {
     "data": {
      "text/plain": [
       "(0.2652665096534129, 1.4902832593339113e-143)"
      ]
     },
     "execution_count": 33,
     "metadata": {},
     "output_type": "execute_result"
    }
   ],
   "source": [
    "corr, p = stats.pearsonr(x, y)\n",
    "corr, p"
   ]
  },
  {
   "cell_type": "markdown",
   "metadata": {},
   "source": [
    "##### Analyzing the Results"
   ]
  },
  {
   "cell_type": "code",
   "execution_count": 34,
   "metadata": {},
   "outputs": [
    {
     "name": "stdout",
     "output_type": "stream",
     "text": [
      "Correlation between tax value and bedrooms\n",
      "  r = 0.265\n"
     ]
    }
   ],
   "source": [
    "print('Correlation between tax value and bedrooms')\n",
    "print(f'  r = {corr:.3f}')"
   ]
  },
  {
   "cell_type": "code",
   "execution_count": 35,
   "metadata": {},
   "outputs": [
    {
     "name": "stdout",
     "output_type": "stream",
     "text": [
      "We reject the null\n"
     ]
    },
    {
     "data": {
      "text/plain": [
       "1.4902832593339113e-143"
      ]
     },
     "execution_count": 35,
     "metadata": {},
     "output_type": "execute_result"
    }
   ],
   "source": [
    "if p < alpha:\n",
    "    print(\"We reject the null\")\n",
    "else:\n",
    "    print(\"We fail to reject the null\")\n",
    "p"
   ]
  },
  {
   "cell_type": "markdown",
   "metadata": {},
   "source": [
    "\n",
    "<div class=\"alert alert-block alert-info\">Conclusion: The tax value and the amount of bedrooms are dependent</div>"
   ]
  },
  {
   "cell_type": "markdown",
   "metadata": {},
   "source": [
    "### Do homes with pools have a different tax value than those without pools?\n",
    "\n",
    "##### Hypothesis 2\n",
    "$H_0$: There is **no difference** in tax value between houses with pools and houses without pools\n",
    "\n",
    "$H_a$: There is **a difference** in tax value between houses with pools and houses without pools"
   ]
  },
  {
   "cell_type": "markdown",
   "metadata": {},
   "source": [
    "##### Assigning test variables"
   ]
  },
  {
   "cell_type": "code",
   "execution_count": 36,
   "metadata": {},
   "outputs": [],
   "source": [
    "taxvalue_with_pool = train[train.poolcnt == 1].propertytaxvalue\n",
    "taxvalue_without_pool = train[train.poolcnt == 0].propertytaxvalue"
   ]
  },
  {
   "cell_type": "markdown",
   "metadata": {},
   "source": [
    "**Plot Distribution**"
   ]
  },
  {
   "cell_type": "code",
   "execution_count": 37,
   "metadata": {
    "scrolled": true
   },
   "outputs": [
    {
     "data": {
      "image/png": "[encoded data removed]",
      "text/plain": [
       "<Figure size 720x360 with 1 Axes>"
      ]
     },
     "metadata": {
      "needs_background": "light"
     },
     "output_type": "display_data"
    }
   ],
   "source": [
    "plt.figure(figsize=(10,5))\n",
    "taxvalue_with_pool.hist(bins = 500)\n",
    "plt.show()"
   ]
  },
  {
   "cell_type": "code",
   "execution_count": 38,
   "metadata": {},
   "outputs": [
    {
     "data": {
      "image/png": "[encoded data removed]",
      "text/plain": [
       "<Figure size 720x360 with 1 Axes>"
      ]
     },
     "metadata": {
      "needs_background": "light"
     },
     "output_type": "display_data"
    }
   ],
   "source": [
    "plt.figure(figsize=(10,5))\n",
    "taxvalue_without_pool.hist(bins = 500)\n",
    "plt.show()"
   ]
  },
  {
   "cell_type": "markdown",
   "metadata": {},
   "source": [
    "**Equal Variance?**"
   ]
  },
  {
   "cell_type": "code",
   "execution_count": 39,
   "metadata": {},
   "outputs": [
    {
     "data": {
      "text/plain": [
       "1494201814857.4915"
      ]
     },
     "execution_count": 39,
     "metadata": {},
     "output_type": "execute_result"
    }
   ],
   "source": [
    "taxvalue_with_pool.var()"
   ]
  },
  {
   "cell_type": "code",
   "execution_count": 40,
   "metadata": {},
   "outputs": [
    {
     "data": {
      "text/plain": [
       "265163532323.93182"
      ]
     },
     "execution_count": 40,
     "metadata": {},
     "output_type": "execute_result"
    }
   ],
   "source": [
    "taxvalue_without_pool.var()"
   ]
  },
  {
   "cell_type": "markdown",
   "metadata": {},
   "source": [
    "##### Run the T-test"
   ]
  },
  {
   "cell_type": "code",
   "execution_count": 41,
   "metadata": {},
   "outputs": [
    {
     "data": {
      "text/plain": [
       "(14.109242624050193, 2.5858175318036635e-43)"
      ]
     },
     "execution_count": 41,
     "metadata": {},
     "output_type": "execute_result"
    }
   ],
   "source": [
    "t, p = stats.ttest_ind(taxvalue_with_pool, taxvalue_without_pool, equal_var = False)\n",
    "t, p"
   ]
  },
  {
   "cell_type": "code",
   "execution_count": 42,
   "metadata": {},
   "outputs": [
    {
     "name": "stdout",
     "output_type": "stream",
     "text": [
      "We reject the null hypothesis\n"
     ]
    }
   ],
   "source": [
    "if p < alpha:\n",
    "    print(\"We reject the null hypothesis\")\n",
    "else:\n",
    "    print(\"We fail to reject the null\")"
   ]
  },
  {
   "cell_type": "markdown",
   "metadata": {},
   "source": [
    "<div class=\"alert alert-block alert-info\">Conclusion: There is a difference in tax value between houses with pools and houses without pools</div>"
   ]
  },
  {
   "cell_type": "code",
   "execution_count": 43,
   "metadata": {
    "scrolled": true
   },
   "outputs": [
    {
     "data": {
      "image/png": "[encoded data removed]",
      "text/plain": [
       "<Figure size 1800x1800 with 110 Axes>"
      ]
     },
     "metadata": {
      "needs_background": "light"
     },
     "output_type": "display_data"
    }
   ],
   "source": [
    "plot_variable_pairs(train)\n",
    "plt.show()"
   ]
  },
  {
   "cell_type": "code",
   "execution_count": 44,
   "metadata": {},
   "outputs": [
    {
     "data": {
      "image/png": "[encoded data removed]",
      "text/plain": [
       "<Figure size 936x864 with 2 Axes>"
      ]
     },
     "metadata": {
      "needs_background": "light"
     },
     "output_type": "display_data"
    }
   ],
   "source": [
    "corr = train.corr()\n",
    "mask = np.triu(np.ones_like(corr, dtype=bool))\n",
    "plt.figure(figsize=(13,12))\n",
    "sns.heatmap(train.corr(), cmap='Purples', annot=True, mask=mask)\n",
    "plt.show()"
   ]
  },
  {
   "cell_type": "markdown",
   "metadata": {},
   "source": [
    "<div class=\"alert alert-block alert-info\">Conclusion: Features that involve the bedroom, bathroom or square feet have the highest correlation to the target. This is great to know moving forward but these are just one-to-one relationships. We will run further test in feature engineering to see how the correlation results with multiple variables.</div>"
   ]
  },
  {
   "cell_type": "markdown",
   "metadata": {},
   "source": [
    "## Feature Engineering"
   ]
  },
  {
   "cell_type": "markdown",
   "metadata": {},
   "source": [
    "- Run mvp variables \n",
    "- Rank the features in relation to the target\n",
    "- Run a SelectKBest for correlation with multiple variables\n",
    "- Run a Recursive Feature Elimination for best features to model\n",
    "- Select a second set of features for train section"
   ]
  },
  {
   "cell_type": "markdown",
   "metadata": {},
   "source": [
    "##### MVP Features"
   ]
  },
  {
   "cell_type": "code",
   "execution_count": 45,
   "metadata": {},
   "outputs": [],
   "source": [
    "X_train_mvp = train[['sqft_scaled', 'bedroom_scaled', 'bathroom_scaled']]\n",
    "y_train_mvp = train[['propertytaxvalue']]\n",
    "\n",
    "X_validate_mvp = validate[['sqft_scaled', 'bedroom_scaled', 'bathroom_scaled']]\n",
    "y_validate_mvp = validate[['propertytaxvalue']]\n",
    "\n",
    "X_test_mvp = test[['sqft_scaled', 'bedroom_scaled', 'bathroom_scaled']]\n",
    "y_test_mvp = test[['propertytaxvalue']]"
   ]
  },
  {
   "cell_type": "markdown",
   "metadata": {},
   "source": [
    "##### Only Scaled Features"
   ]
  },
  {
   "cell_type": "code",
   "execution_count": 46,
   "metadata": {},
   "outputs": [],
   "source": [
    "X = train.drop(columns=['bathroom', 'bedroom', 'sqft', 'fullbathcnt', 'lotsqft', 'roomcnt', 'yearbuilt', 'propertytaxvalue'])\n",
    "y = train[['propertytaxvalue']]"
   ]
  },
  {
   "cell_type": "markdown",
   "metadata": {},
   "source": [
    "\n",
    "<div class=\"alert alert-block alert-info\">Create a dataframe of only scaled columns so we can run a couple of feature engineering test </div>"
   ]
  },
  {
   "cell_type": "markdown",
   "metadata": {},
   "source": [
    "##### Ranking Features"
   ]
  },
  {
   "cell_type": "code",
   "execution_count": 47,
   "metadata": {},
   "outputs": [
    {
     "data": {
      "text/html": [
       "<div>\n",
       "<style scoped>\n",
       "    .dataframe tbody tr th:only-of-type {\n",
       "        vertical-align: middle;\n",
       "    }\n",
       "\n",
       "    .dataframe tbody tr th {\n",
       "        vertical-align: top;\n",
       "    }\n",
       "\n",
       "    .dataframe thead th {\n",
       "        text-align: right;\n",
       "    }\n",
       "</style>\n",
       "<table border=\"1\" class=\"dataframe\">\n",
       "  <thead>\n",
       "    <tr style=\"text-align: right;\">\n",
       "      <th></th>\n",
       "      <th>features</th>\n",
       "    </tr>\n",
       "    <tr>\n",
       "      <th>rank</th>\n",
       "      <th></th>\n",
       "    </tr>\n",
       "  </thead>\n",
       "  <tbody>\n",
       "    <tr>\n",
       "      <th>8</th>\n",
       "      <td>fips</td>\n",
       "    </tr>\n",
       "    <tr>\n",
       "      <th>7</th>\n",
       "      <td>poolcnt</td>\n",
       "    </tr>\n",
       "    <tr>\n",
       "      <th>6</th>\n",
       "      <td>bathroom_scaled</td>\n",
       "    </tr>\n",
       "    <tr>\n",
       "      <th>2</th>\n",
       "      <td>bedroom_scaled</td>\n",
       "    </tr>\n",
       "    <tr>\n",
       "      <th>1</th>\n",
       "      <td>sqft_scaled</td>\n",
       "    </tr>\n",
       "    <tr>\n",
       "      <th>5</th>\n",
       "      <td>lotsqft_scaled</td>\n",
       "    </tr>\n",
       "    <tr>\n",
       "      <th>4</th>\n",
       "      <td>fullbathcnt_scaled</td>\n",
       "    </tr>\n",
       "    <tr>\n",
       "      <th>3</th>\n",
       "      <td>roomcnt_scaled</td>\n",
       "    </tr>\n",
       "  </tbody>\n",
       "</table>\n",
       "</div>"
      ],
      "text/plain": [
       "                features\n",
       "rank                    \n",
       "8                   fips\n",
       "7                poolcnt\n",
       "6        bathroom_scaled\n",
       "2         bedroom_scaled\n",
       "1            sqft_scaled\n",
       "5         lotsqft_scaled\n",
       "4     fullbathcnt_scaled\n",
       "3         roomcnt_scaled"
      ]
     },
     "execution_count": 47,
     "metadata": {},
     "output_type": "execute_result"
    }
   ],
   "source": [
    "lm = LinearRegression()\n",
    "rfe_ = RFE(lm, 1)\n",
    "rfe_.fit(X, y)\n",
    "ranks = rfe_.ranking_\n",
    "names = X.columns.tolist()\n",
    "pd.DataFrame({'features': names, 'rank': ranks}).set_index('rank')"
   ]
  },
  {
   "cell_type": "markdown",
   "metadata": {},
   "source": [
    "<div class=\"alert alert-block alert-info\">The top four features in descending order is 'sqft_scaled', 'bedroom_scaled', 'roomcnt_scaled' and 'fullbathcnt_scaled'</div>"
   ]
  },
  {
   "cell_type": "markdown",
   "metadata": {},
   "source": [
    "##### SelectKBest Correlation"
   ]
  },
  {
   "cell_type": "code",
   "execution_count": 48,
   "metadata": {},
   "outputs": [
    {
     "data": {
      "text/plain": [
       "['bathroom_scaled', 'sqft_scaled', 'fullbathcnt_scaled']"
      ]
     },
     "execution_count": 48,
     "metadata": {},
     "output_type": "execute_result"
    }
   ],
   "source": [
    "select_kbest(X, y, 3)"
   ]
  },
  {
   "cell_type": "markdown",
   "metadata": {},
   "source": [
    "\n",
    "<div class=\"alert alert-block alert-info\">The features that have the highest correlation to the target is 'bathroom_scaled', 'sqft_scaled' and 'fullbathcnt_scaled'</div>"
   ]
  },
  {
   "cell_type": "markdown",
   "metadata": {},
   "source": [
    "##### Recursive Feature Elimination"
   ]
  },
  {
   "cell_type": "code",
   "execution_count": 49,
   "metadata": {},
   "outputs": [
    {
     "data": {
      "text/plain": [
       "['bedroom_scaled', 'sqft_scaled', 'roomcnt_scaled']"
      ]
     },
     "execution_count": 49,
     "metadata": {},
     "output_type": "execute_result"
    }
   ],
   "source": [
    "rfe(X, y, 3)"
   ]
  },
  {
   "cell_type": "markdown",
   "metadata": {},
   "source": [
    "\n",
    "<div class=\"alert alert-block alert-info\">The features that modeled the best at predicting the target is 'bedroom_scaled', 'sqft_scaled' and 'roomcnt_scaled'</div>"
   ]
  },
  {
   "cell_type": "markdown",
   "metadata": {},
   "source": [
    "#### Top Features for Second Model"
   ]
  },
  {
   "cell_type": "code",
   "execution_count": 50,
   "metadata": {},
   "outputs": [],
   "source": [
    "X_train = train[['bedroom_scaled', 'sqft_scaled', 'bathroom_scaled', 'roomcnt_scaled']]\n",
    "y_train = train[['propertytaxvalue']]\n",
    "\n",
    "X_validate = validate[['bedroom_scaled', 'sqft_scaled', 'bathroom_scaled', 'roomcnt_scaled']]\n",
    "y_validate = validate[['propertytaxvalue']]\n",
    "\n",
    "X_test = test[['bedroom_scaled', 'sqft_scaled', 'bathroom_scaled', 'roomcnt_scaled']]\n",
    "y_test = test[['propertytaxvalue']]"
   ]
  },
  {
   "cell_type": "markdown",
   "metadata": {},
   "source": [
    "\n",
    "<div class=\"alert alert-block alert-info\">We will use 'bedroom_scaled', 'sqft_scaled', 'bathroom_scaled' and 'roomcnt_scaled' for our second set of training data </div>"
   ]
  },
  {
   "cell_type": "markdown",
   "metadata": {},
   "source": [
    "## Modeling"
   ]
  },
  {
   "cell_type": "markdown",
   "metadata": {},
   "source": [
    "- Set the Baseline\n",
    "- Create Linear Regression, LassoLars and Polynomial Squared models for two sets of features\n",
    "- Analyze the results"
   ]
  },
  {
   "cell_type": "markdown",
   "metadata": {},
   "source": [
    "##### Setting the Baseline"
   ]
  },
  {
   "cell_type": "code",
   "execution_count": 51,
   "metadata": {},
   "outputs": [
    {
     "data": {
      "text/plain": [
       "750570.3525956493"
      ]
     },
     "execution_count": 51,
     "metadata": {},
     "output_type": "execute_result"
    }
   ],
   "source": [
    "np.mean(y_train)\n",
    "\n",
    "baseline_rmse = mean_squared_error(y_train, np.full(8922, np.mean(y_train)))**(1/2)\n",
    "\n",
    "baseline_rmse"
   ]
  },
  {
   "cell_type": "markdown",
   "metadata": {},
   "source": [
    "### Train"
   ]
  },
  {
   "cell_type": "markdown",
   "metadata": {},
   "source": [
    "##### Linear Regression Model 1"
   ]
  },
  {
   "cell_type": "code",
   "execution_count": 52,
   "metadata": {},
   "outputs": [
    {
     "data": {
      "text/plain": [
       "590417.7693529542"
      ]
     },
     "execution_count": 52,
     "metadata": {},
     "output_type": "execute_result"
    }
   ],
   "source": [
    "lm_rmse = linearReg_train(X_train_mvp, y_train_mvp)\n",
    "\n",
    "lm_rmse"
   ]
  },
  {
   "cell_type": "markdown",
   "metadata": {},
   "source": [
    "##### LassoLars Model 1"
   ]
  },
  {
   "cell_type": "code",
   "execution_count": 53,
   "metadata": {},
   "outputs": [
    {
     "data": {
      "text/plain": [
       "590417.8152195138"
      ]
     },
     "execution_count": 53,
     "metadata": {},
     "output_type": "execute_result"
    }
   ],
   "source": [
    "lars_rmse = lassoLars_train(X_train_mvp, y_train_mvp)\n",
    "\n",
    "lars_rmse"
   ]
  },
  {
   "cell_type": "markdown",
   "metadata": {},
   "source": [
    "##### Polynomial Squared Model 1"
   ]
  },
  {
   "cell_type": "code",
   "execution_count": 54,
   "metadata": {},
   "outputs": [
    {
     "data": {
      "text/plain": [
       "559929.4082537807"
      ]
     },
     "execution_count": 54,
     "metadata": {},
     "output_type": "execute_result"
    }
   ],
   "source": [
    "lm_squared_rmse = poly_linearReg_train(X_train_mvp, y_train_mvp, 2)\n",
    "\n",
    "lm_squared_rmse"
   ]
  },
  {
   "cell_type": "markdown",
   "metadata": {},
   "source": [
    "##### Linear Regression Model 2"
   ]
  },
  {
   "cell_type": "code",
   "execution_count": 55,
   "metadata": {},
   "outputs": [
    {
     "data": {
      "text/plain": [
       "589076.3486454749"
      ]
     },
     "execution_count": 55,
     "metadata": {},
     "output_type": "execute_result"
    }
   ],
   "source": [
    "lm_rmse2 = linearReg_train(X_train, y_train)\n",
    "\n",
    "lm_rmse2"
   ]
  },
  {
   "cell_type": "markdown",
   "metadata": {},
   "source": [
    "##### LassoLars Model 2"
   ]
  },
  {
   "cell_type": "code",
   "execution_count": 56,
   "metadata": {},
   "outputs": [
    {
     "data": {
      "text/plain": [
       "589076.4443968087"
      ]
     },
     "execution_count": 56,
     "metadata": {},
     "output_type": "execute_result"
    }
   ],
   "source": [
    "lars_rmse2 = lassoLars_train(X_train, y_train)\n",
    "\n",
    "lars_rmse2"
   ]
  },
  {
   "cell_type": "markdown",
   "metadata": {},
   "source": [
    "##### Polynomial Squared Model 2"
   ]
  },
  {
   "cell_type": "code",
   "execution_count": 57,
   "metadata": {},
   "outputs": [
    {
     "data": {
      "text/plain": [
       "558641.2952906246"
      ]
     },
     "execution_count": 57,
     "metadata": {},
     "output_type": "execute_result"
    }
   ],
   "source": [
    "lm_squared_rmse2 = poly_linearReg_train(X_train, y_train, 2)\n",
    "\n",
    "lm_squared_rmse2"
   ]
  },
  {
   "cell_type": "markdown",
   "metadata": {},
   "source": [
    "##### Grouping the Results"
   ]
  },
  {
   "cell_type": "code",
   "execution_count": 58,
   "metadata": {
    "scrolled": true
   },
   "outputs": [
    {
     "name": "stdout",
     "output_type": "stream",
     "text": [
      "Baseline, Mean:  750570.3525956493\n",
      "Linear Regression Model 1:  590417.7693529542\n",
      "Linear Regression Model 2:  589076.3486454749\n",
      "LassoLars Model 1:  590417.8152195138\n",
      "LassoLars Model 2:  589076.4443968087\n",
      "Polynomial Squared Model 1:  559929.4082537807\n",
      "Polynomial Squared Model 2:  558641.2952906246\n"
     ]
    }
   ],
   "source": [
    "print(\"Baseline, Mean: \", baseline_rmse)\n",
    "print(\"Linear Regression Model 1: \", lm_rmse)\n",
    "print(\"Linear Regression Model 2: \", lm_rmse2)\n",
    "print(\"LassoLars Model 1: \", lars_rmse)\n",
    "print(\"LassoLars Model 2: \", lars_rmse2)\n",
    "print(\"Polynomial Squared Model 1: \", lm_squared_rmse)\n",
    "print(\"Polynomial Squared Model 2: \", lm_squared_rmse2)"
   ]
  },
  {
   "cell_type": "markdown",
   "metadata": {},
   "source": [
    "<div class=\"alert alert-block alert-info\">At first glance, our Polynomial Squared Models performed the best. We will use move onto the validate section but keeping in mind that those functions tend to overfit the first set of data.</div>"
   ]
  },
  {
   "cell_type": "markdown",
   "metadata": {},
   "source": [
    "### Validate"
   ]
  },
  {
   "cell_type": "markdown",
   "metadata": {},
   "source": [
    "- Create Linear Regression, LassoLars and Polynomial Squared models with the validate datasets \n",
    "- Compare the results to the test datasets\n",
    "- Select the best model"
   ]
  },
  {
   "cell_type": "markdown",
   "metadata": {},
   "source": [
    "##### Linear Regression Model 1"
   ]
  },
  {
   "cell_type": "code",
   "execution_count": 59,
   "metadata": {},
   "outputs": [
    {
     "data": {
      "text/plain": [
       "563466.0482839951"
      ]
     },
     "execution_count": 59,
     "metadata": {},
     "output_type": "execute_result"
    }
   ],
   "source": [
    "lm_rmse_val = linearReg_validate(X_train_mvp, y_train_mvp, X_validate_mvp, y_validate_mvp)\n",
    "\n",
    "lm_rmse_val"
   ]
  },
  {
   "cell_type": "markdown",
   "metadata": {},
   "source": [
    "##### LassoLars Model 1"
   ]
  },
  {
   "cell_type": "code",
   "execution_count": 60,
   "metadata": {},
   "outputs": [
    {
     "data": {
      "text/plain": [
       "563453.8589325164"
      ]
     },
     "execution_count": 60,
     "metadata": {},
     "output_type": "execute_result"
    }
   ],
   "source": [
    "lars_rmse_val = lassoLars_validate(X_train_mvp, y_train_mvp, X_validate_mvp, y_validate_mvp)\n",
    "\n",
    "lars_rmse_val"
   ]
  },
  {
   "cell_type": "markdown",
   "metadata": {},
   "source": [
    "##### Polynomial Squared Model 1"
   ]
  },
  {
   "cell_type": "code",
   "execution_count": 61,
   "metadata": {},
   "outputs": [
    {
     "data": {
      "text/plain": [
       "537921.8125918185"
      ]
     },
     "execution_count": 61,
     "metadata": {},
     "output_type": "execute_result"
    }
   ],
   "source": [
    "lm_squared_rmse_val = poly_linearReg_validate(X_train_mvp, y_train_mvp, X_validate_mvp, y_validate_mvp, 2)\n",
    "\n",
    "lm_squared_rmse_val"
   ]
  },
  {
   "cell_type": "markdown",
   "metadata": {},
   "source": [
    "##### Linear Regression Model 2"
   ]
  },
  {
   "cell_type": "code",
   "execution_count": 62,
   "metadata": {},
   "outputs": [
    {
     "data": {
      "text/plain": [
       "561663.638493082"
      ]
     },
     "execution_count": 62,
     "metadata": {},
     "output_type": "execute_result"
    }
   ],
   "source": [
    "lm_rmse_val2 = linearReg_validate(X_train, y_train, X_validate, y_validate)\n",
    "\n",
    "lm_rmse_val2"
   ]
  },
  {
   "cell_type": "markdown",
   "metadata": {},
   "source": [
    "##### LassoLars Model 2"
   ]
  },
  {
   "cell_type": "code",
   "execution_count": 63,
   "metadata": {},
   "outputs": [
    {
     "data": {
      "text/plain": [
       "561654.2424728198"
      ]
     },
     "execution_count": 63,
     "metadata": {},
     "output_type": "execute_result"
    }
   ],
   "source": [
    "lars_rmse_val2 = lassoLars_validate(X_train, y_train, X_validate, y_validate)\n",
    "\n",
    "lars_rmse_val2"
   ]
  },
  {
   "cell_type": "markdown",
   "metadata": {},
   "source": [
    "##### Polynomial Squared Model 2"
   ]
  },
  {
   "cell_type": "code",
   "execution_count": 64,
   "metadata": {},
   "outputs": [
    {
     "data": {
      "text/plain": [
       "537026.1982534556"
      ]
     },
     "execution_count": 64,
     "metadata": {},
     "output_type": "execute_result"
    }
   ],
   "source": [
    "lm_squared_rmse_val2 = poly_linearReg_validate(X_train, y_train, X_validate, y_validate, 2)\n",
    "\n",
    "lm_squared_rmse_val2"
   ]
  },
  {
   "cell_type": "markdown",
   "metadata": {},
   "source": [
    "##### Grouping the Results"
   ]
  },
  {
   "cell_type": "code",
   "execution_count": 65,
   "metadata": {},
   "outputs": [
    {
     "name": "stdout",
     "output_type": "stream",
     "text": [
      "       Models       |      Train      |      Validate\n",
      "Baseline, Mean:  750570.3525956493\n",
      "Linear Regression Model 1:  590417.7693529542 563466.0482839951\n",
      "Linear Regression Model 2:  589076.3486454749 561663.638493082\n",
      "LassoLars Model 1:  590417.8152195138 563453.8589325164\n",
      "LassoLars Model 2:  589076.4443968087 561654.2424728198\n",
      "Polynomial Squared Model 1:  559929.4082537807 537921.8125918185\n",
      "Polynomial Squared Model 2:  558641.2952906246 537026.1982534556\n"
     ]
    }
   ],
   "source": [
    "print(\"       Models       |      Train      |      Validate\")\n",
    "print(\"Baseline, Mean: \", baseline_rmse)\n",
    "print(\"Linear Regression Model 1: \", lm_rmse, lm_rmse_val)\n",
    "print(\"Linear Regression Model 2: \", lm_rmse2, lm_rmse_val2)\n",
    "print(\"LassoLars Model 1: \", lars_rmse, lars_rmse_val)\n",
    "print(\"LassoLars Model 2: \", lars_rmse2, lars_rmse_val2)\n",
    "print(\"Polynomial Squared Model 1: \", lm_squared_rmse, lm_squared_rmse_val)\n",
    "print(\"Polynomial Squared Model 2: \", lm_squared_rmse2, lm_squared_rmse_val2)"
   ]
  },
  {
   "cell_type": "markdown",
   "metadata": {},
   "source": [
    "<div class=\"alert alert-block alert-info\">Conclusion: Since the Polynomial Squared Model 2 has the best overall score and the smallest difference between Train and Validate, we will move forward with this model to Test.</div>"
   ]
  },
  {
   "cell_type": "markdown",
   "metadata": {},
   "source": [
    "### Test"
   ]
  },
  {
   "cell_type": "markdown",
   "metadata": {},
   "source": [
    "- Use the best model on the test dataset \n",
    "- Graph the results"
   ]
  },
  {
   "cell_type": "code",
   "execution_count": 66,
   "metadata": {},
   "outputs": [
    {
     "data": {
      "text/plain": [
       "548450.2823572336"
      ]
     },
     "execution_count": 66,
     "metadata": {},
     "output_type": "execute_result"
    }
   ],
   "source": [
    "lm_squared_rmse_test = poly_linearReg_validate(X_train, y_train, X_test, y_test, 2)\n",
    "\n",
    "lm_squared_rmse_test"
   ]
  },
  {
   "cell_type": "markdown",
   "metadata": {},
   "source": [
    "<div class=\"alert alert-block alert-info\">Conclusion: Polynomial Squared Model 2 performed within the Train and Validate parameters while also performing better than other models.</div>"
   ]
  },
  {
   "cell_type": "markdown",
   "metadata": {},
   "source": [
    "##### Prepping the Graph"
   ]
  },
  {
   "cell_type": "code",
   "execution_count": 67,
   "metadata": {},
   "outputs": [],
   "source": [
    "X_rfe = rfe_.fit_transform(X_train,y_train) \n",
    "poly = PolynomialFeatures(degree=2)\n",
    "X_poly = poly.fit_transform(X_rfe)\n",
    "\n",
    "lm_poly = LinearRegression()\n",
    "lm_poly.fit(X_poly, y_train.propertytaxvalue)\n",
    "\n",
    "y_train['yhat_poly'] = lm_poly.predict(X_poly)\n",
    "y_train['yhat_baseline'] = train.propertytaxvalue.mean()"
   ]
  },
  {
   "cell_type": "markdown",
   "metadata": {},
   "source": [
    "<div class=\"alert alert-block alert-info\"> We are creating a baseline, fitting and transforming the best model so we can create a y-hat variable for the graph</div>"
   ]
  },
  {
   "cell_type": "markdown",
   "metadata": {},
   "source": [
    "##### Graphing Final Results"
   ]
  },
  {
   "cell_type": "code",
   "execution_count": 68,
   "metadata": {},
   "outputs": [
    {
     "data": {
      "image/png": "[encoded data removed]",
      "text/plain": [
       "<Figure size 1080x360 with 1 Axes>"
      ]
     },
     "metadata": {
      "needs_background": "light"
     },
     "output_type": "display_data"
    }
   ],
   "source": [
    "plt.figure(figsize=(15,5))\n",
    "plt.title(\"Actual, Model Prediction, and Baseline Property Tax Values\")\n",
    "sns.lineplot(data = y_train.propertytaxvalue, label = \"Actual\")\n",
    "sns.lineplot(data = y_train.yhat_poly, label = \"Model\")\n",
    "sns.lineplot(data = y_train.yhat_baseline, label = \"Baseline\")\n",
    "plt.xlabel('Each Unique Home')\n",
    "plt.ylabel('Tax Property Value(tens of millions)')\n",
    "plt.show()"
   ]
  },
  {
   "cell_type": "markdown",
   "metadata": {},
   "source": [
    "## Conclusion"
   ]
  },
  {
   "cell_type": "markdown",
   "metadata": {},
   "source": [
    "<div class=\"alert alert-block alert-info\"> \n",
    "\n",
    "- Many of the original data was scraped due to a high number of null values.\n",
    "- There was a high correlation between bedroom, bathroom and squarefeet to the property tax value. \n",
    "- The Polynomial Squared Model 2 out perfomed our baseline by 26.98% at predicting the target variable.\n",
    "\n",
    "</div>"
   ]
  },
  {
   "cell_type": "markdown",
   "metadata": {},
   "source": [
    "## Next Steps\n",
    "If we are alloted more time:"
   ]
  },
  {
   "cell_type": "markdown",
   "metadata": {},
   "source": [
    "<div class=\"alert alert-block alert-info\">\n",
    "\n",
    "- We can further explore the original data to see if we can fill in the null values.\n",
    "- We could change the bedrooms and bathrooms into categorical to see if they would be weighted differently.\n",
    "- We could further analyze the outliers and possibly remove them so we can increase performance on our model.\n",
    "\n",
    "</div>"
   ]
  },
  {
   "cell_type": "code",
   "execution_count": null,
   "metadata": {},
   "outputs": [],
   "source": []
  }
 ],
 "metadata": {
  "kernelspec": {
   "display_name": "Python 3",
   "language": "python",
   "name": "python3"
  },
  "language_info": {
   "codemirror_mode": {
    "name": "ipython",
    "version": 3
   },
   "file_extension": ".py",
   "mimetype": "text/x-python",
   "name": "python",
   "nbconvert_exporter": "python",
   "pygments_lexer": "ipython3",
   "version": "3.7.6"
  }
 },
 "nbformat": 4,
 "nbformat_minor": 4
}
