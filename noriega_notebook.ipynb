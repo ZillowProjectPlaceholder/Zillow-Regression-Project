{
 "cells": [
  {
   "cell_type": "markdown",
   "metadata": {},
   "source": [
    "# Main Goals of the project\n",
    "- predict 'taxvaluedollarcount'\n",
    "    - on single unit properties\n",
    "    - between May and June of 2017\n",
    "- what states and counties are properties located\n",
    "- plot distribution of tax rates for each county"
   ]
  },
  {
   "cell_type": "markdown",
   "metadata": {},
   "source": [
    "For the first iteration of your model, use only square feet of the home, number of bedrooms, and number of bathrooms to estimate the property's assessed value, taxvaluedollarcnt. You can expand this to other fields after you have completed an mvp (minimally viable product)."
   ]
  },
  {
   "cell_type": "markdown",
   "metadata": {},
   "source": [
    "##### initial query\n",
    "select calculatedfinishedsquarefeet, bedroomcnt, bathroomcnt, taxvaluedollarcnt\n",
    "\n",
    "from properties_2017 as prop\n",
    "\n",
    "join predictions_2017 as pred on pred.parcelid = prop.parcelid\n",
    "\n",
    "where transactiondate BETWEEN '2017-05-01' AND '2017-06-30'\n",
    "\n",
    "and propertylandusetypeid = 261\n",
    "\n",
    "and calculatedfinishedsquarefeet is not null\n",
    "\n",
    "and bedroomcnt > 0\n",
    "\n",
    "and bathroomcnt > 0;\n"
   ]
  },
  {
   "cell_type": "code",
   "execution_count": 1,
   "metadata": {},
   "outputs": [],
   "source": [
    "import pandas as pd\n",
    "from acquire import get_zillow_data"
   ]
  },
  {
   "cell_type": "code",
   "execution_count": null,
   "metadata": {},
   "outputs": [],
   "source": [
    "df = get"
   ]
  }
 ],
 "metadata": {
  "kernelspec": {
   "display_name": "Python 3",
   "language": "python",
   "name": "python3"
  },
  "language_info": {
   "codemirror_mode": {
    "name": "ipython",
    "version": 3
   },
   "file_extension": ".py",
   "mimetype": "text/x-python",
   "name": "python",
   "nbconvert_exporter": "python",
   "pygments_lexer": "ipython3",
   "version": "3.7.6"
  }
 },
 "nbformat": 4,
 "nbformat_minor": 4
}
