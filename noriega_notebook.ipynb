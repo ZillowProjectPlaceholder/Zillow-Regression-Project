{
 "cells": [
  {
   "cell_type": "markdown",
   "metadata": {},
   "source": [
    "# Main Goals of the project\n",
    "- predict 'taxvaluedollarcount'\n",
    "    - on single unit properties\n",
    "    - between May and June of 2017\n",
    "- what states and counties are properties located\n",
    "- plot distribution of tax rates for each county"
   ]
  },
  {
   "cell_type": "markdown",
   "metadata": {},
   "source": [
    "For the first iteration of your model, use only square feet of the home, number of bedrooms, and number of bathrooms to estimate the property's assessed value, taxvaluedollarcnt. You can expand this to other fields after you have completed an mvp (minimally viable product)."
   ]
  },
  {
   "cell_type": "markdown",
   "metadata": {},
   "source": [
    "#####  single family homes in may and june\n",
    "select propertylandusetypeid, count(propertylandusetypeid)\n",
    "\n",
    "from properties_2017 as prop \n",
    "\n",
    "join predictions_2017 as pred on pred.parcelid = prop.parcelid\n",
    "\n",
    "where transactiondate BETWEEN '2017-05-01' AND '2017-06-30'\n",
    "\n",
    "and propertylandusetypeid not in (247, 246, 269, 248, 31)\n",
    "\n",
    "group by propertylandusetypeid;"
   ]
  },
  {
   "cell_type": "markdown",
   "metadata": {},
   "source": [
    "##### bare minimum values between may and june\n",
    "select calculatedfinishedsquarefeet, bedroomcnt, bathroomcnt, transactiondate, propertylandusetypeid\n",
    "\n",
    "from properties_2017 as prop \n",
    "\n",
    "join predictions_2017 as pred on pred.parcelid = prop.parcelid\n",
    "\n",
    "where transactiondate BETWEEN '2017-05-01' AND '2017-06-30';"
   ]
  },
  {
   "cell_type": "markdown",
   "metadata": {},
   "source": [
    "##### checking for nulls and values \n",
    "select calculatedfinishedsquarefeet, bedroomcnt, bathroomcnt\n",
    "from properties_2017\n",
    "\n",
    "where bathroomcnt is not null \n",
    "\n",
    "and bathroomcnt > 0\n",
    "\n",
    "and bedroomcnt is not null \n",
    "\n",
    "and bedroomcnt > 0\n",
    "\n",
    "and calculatedfinishedsquarefeet is not null\n",
    "\n",
    "and calculatedfinishedsquarefeet > 0;"
   ]
  }
 ],
 "metadata": {
  "kernelspec": {
   "display_name": "Python 3",
   "language": "python",
   "name": "python3"
  },
  "language_info": {
   "codemirror_mode": {
    "name": "ipython",
    "version": 3
   },
   "file_extension": ".py",
   "mimetype": "text/x-python",
   "name": "python",
   "nbconvert_exporter": "python",
   "pygments_lexer": "ipython3",
   "version": "3.7.6"
  }
 },
 "nbformat": 4,
 "nbformat_minor": 4
}
